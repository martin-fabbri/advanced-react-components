{
  "nbformat": 4,
  "nbformat_minor": 0,
  "metadata": {
    "colab": {
      "name": "kafka-cli.pynb",
      "provenance": [],
      "collapsed_sections": [],
      "authorship_tag": "ABX9TyNHPHbMUN6GCknw57miOeA1",
      "include_colab_link": true
    },
    "kernelspec": {
      "name": "python3",
      "display_name": "Python 3"
    }
  },
  "cells": [
    {
      "cell_type": "markdown",
      "metadata": {
        "id": "view-in-github",
        "colab_type": "text"
      },
      "source": [
        "<a href=\"https://colab.research.google.com/github/martin-fabbri/advanced-react-components/blob/master/kafka/kafka_cli_pynb.ipynb\" target=\"_parent\"><img src=\"https://colab.research.google.com/assets/colab-badge.svg\" alt=\"Open In Colab\"/></a>"
      ]
    },
    {
      "cell_type": "code",
      "metadata": {
        "id": "o7R1INZrvQuI",
        "colab_type": "code",
        "colab": {},
        "cellView": "form"
      },
      "source": [
        "#@title ## Setup Kafka\n",
        "#@markdown This cell will install Kafka 2.12\n",
        "%%bash\n",
        "sudo apt-get update -qq\n",
        "sudo wget https://www-us.apache.org/dist/kafka/2.3.0/kafka_2.12-2.3.0.tgz -q\n",
        "sudo tar -xzf kafka_2.12-2.3.0.tgz\n",
        "sudo mv kafka_2.12-2.3.0 /opt/kafka"
      ],
      "execution_count": 0,
      "outputs": []
    },
    {
      "cell_type": "code",
      "metadata": {
        "id": "kVa5LP_25WG4",
        "colab_type": "code",
        "colab": {},
        "cellView": "form"
      },
      "source": [
        "#@title ## Start services\n",
        "#@markdown Start ``zookeeper on port 2181`` and  ``kafka on port 9092``(default ports).\n",
        "\n",
        "%%bash\n",
        "sudo nohup /opt/kafka/bin/zookeeper-server-start.sh -daemon /opt/kafka/config/zookeeper.properties > /dev/null 2>&1 &\n",
        "sleep 5\n",
        "sudo nohup /opt/kafka/bin/kafka-server-start.sh -daemon /opt/kafka/config/server.properties > /dev/null 2>&1 &"
      ],
      "execution_count": 0,
      "outputs": []
    },
    {
      "cell_type": "markdown",
      "metadata": {
        "id": "7lpalAywVV4M",
        "colab_type": "text"
      },
      "source": [
        "## List all the Kafka topics available on the server\n",
        "\n",
        "The `--zookeeper` parameter is required everytime you want to call the `kafka-topics` command"
      ]
    },
    {
      "cell_type": "code",
      "metadata": {
        "id": "GhxGGKsPVvZw",
        "colab_type": "code",
        "colab": {
          "base_uri": "https://localhost:8080/",
          "height": 49
        },
        "outputId": "edbd4095-738c-466f-f577-0daf98e345c6"
      },
      "source": [
        "%%bash\n",
        "/opt/kafka/bin/kafka-topics.sh --list --zookeeper localhost:2181"
      ],
      "execution_count": 12,
      "outputs": [
        {
          "output_type": "stream",
          "text": [
            "DevOps22\n",
            "test-topic\n"
          ],
          "name": "stdout"
        }
      ]
    },
    {
      "cell_type": "markdown",
      "metadata": {
        "id": "knXD-cTVlyYN",
        "colab_type": "text"
      },
      "source": [
        "## Topic creation"
      ]
    },
    {
      "cell_type": "code",
      "metadata": {
        "id": "45I0qU0I8LoX",
        "colab_type": "code",
        "colab": {
          "base_uri": "https://localhost:8080/",
          "height": 33
        },
        "outputId": "0a06a53c-4b6f-4b9b-9553-f9dcfad87349"
      },
      "source": [
        "%%bash\n",
        "/opt/kafka/bin/kafka-topics.sh --create --zookeeper localhost:2181 --replication-factor 1 --partitions 1 --topic test-topic"
      ],
      "execution_count": 11,
      "outputs": [
        {
          "output_type": "stream",
          "text": [
            "Created topic test-topic.\n"
          ],
          "name": "stdout"
        }
      ]
    },
    {
      "cell_type": "markdown",
      "metadata": {
        "id": "nKppFVXll-Ad",
        "colab_type": "text"
      },
      "source": [
        "## Producing Data\n",
        "\n",
        "Type messages as soon as the prompt is available."
      ]
    },
    {
      "cell_type": "code",
      "metadata": {
        "id": "TXpR5-Fw0NQq",
        "colab_type": "code",
        "colab": {
          "base_uri": "https://localhost:8080/",
          "height": 82
        },
        "outputId": "ce115e66-ce4b-4e74-80d0-1ede26b8f455"
      },
      "source": [
        "!/opt/kafka/bin/kafka-console-producer.sh --broker-list localhost:9092 --topic test-topic"
      ],
      "execution_count": 17,
      "outputs": [
        {
          "output_type": "stream",
          "text": [
            ">akd;kf;skd\n",
            ">ka;skdf;kd\n",
            ">k;ksd;fkd;kf\n",
            ">"
          ],
          "name": "stdout"
        }
      ]
    },
    {
      "cell_type": "markdown",
      "metadata": {
        "id": "fotaBX7OopGf",
        "colab_type": "text"
      },
      "source": [
        "## Consuming Data"
      ]
    },
    {
      "cell_type": "code",
      "metadata": {
        "id": "LKlEvvIHopjj",
        "colab_type": "code",
        "colab": {
          "base_uri": "https://localhost:8080/",
          "height": 115
        },
        "outputId": "76009d8e-d1df-435a-f4ce-8d3eeb76cd36"
      },
      "source": [
        "!/opt/kafka/bin/kafka-console-consumer.sh --topic test-topic --bootstrap-server localhost:9092 --from-beginning --timeout-ms 500"
      ],
      "execution_count": 24,
      "outputs": [
        {
          "output_type": "stream",
          "text": [
            "akd;kf;skd\n",
            "ka;skdf;kd\n",
            "k;ksd;fkd;kf\n",
            "[2020-04-18 04:57:45,863] ERROR Error processing message, terminating consumer process:  (kafka.tools.ConsoleConsumer$)\n",
            "org.apache.kafka.common.errors.TimeoutException\n",
            "Processed a total of 3 messages\n"
          ],
          "name": "stdout"
        }
      ]
    }
  ]
}