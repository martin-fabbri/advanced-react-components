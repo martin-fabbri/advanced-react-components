{
  "nbformat": 4,
  "nbformat_minor": 0,
  "metadata": {
    "colab": {
      "name": "c1_w2_assignment.ipynb",
      "provenance": [],
      "authorship_tag": "ABX9TyM2UQ2b85XyH0ItkZyTHaLE",
      "include_colab_link": true
    },
    "kernelspec": {
      "name": "python3",
      "display_name": "Python 3"
    }
  },
  "cells": [
    {
      "cell_type": "markdown",
      "metadata": {
        "id": "view-in-github",
        "colab_type": "text"
      },
      "source": [
        "<a href=\"https://colab.research.google.com/github/martin-fabbri/advanced-react-components/blob/master/deeplearning.ai/nlp/c1_w2_assignment.ipynb\" target=\"_parent\"><img src=\"https://colab.research.google.com/assets/colab-badge.svg\" alt=\"Open In Colab\"/></a>"
      ]
    },
    {
      "cell_type": "markdown",
      "metadata": {
        "id": "F2UVJ4inaHhA"
      },
      "source": [
        "# Assignment 2: Naive Bayes\n",
        "Welcome to week two of this specialization. You will learn about Naive Bayes. Concretely, you will be using Naive Bayes for sentiment analysis on tweets. Given a tweet, you will decide if it has a positive sentiment or a negative one. Specifically you will: \n",
        "\n",
        "* Train a naive bayes model on a sentiment analysis task\n",
        "* Test using your model\n",
        "* Compute ratios of positive words to negative words\n",
        "* Do some error analysis\n",
        "* Predict on your own tweet\n",
        "\n",
        "You may already be familiar with Naive Bayes and its justification in terms of conditional probabilities and independence.\n",
        "* In this week's lectures and assignments we used the ratio of probabilities between positive and negative sentiments.\n",
        "* This approach gives us simpler formulas for these 2-way classification tasks.\n",
        "\n",
        "Load the cell below to import some packages.\n",
        "You  may want to browse the documentation of unfamiliar libraries and functions."
      ]
    },
    {
      "cell_type": "code",
      "metadata": {
        "id": "ajia0ZEVaGy2"
      },
      "source": [
        "import pdb\n",
        "import numpy as np\n",
        "import pandas as pd\n",
        "import nltk\n",
        "import string\n",
        "import re\n",
        "\n",
        "from nltk.corpus import twitter_samples\n",
        "from nltk.tokenize import TweetTokenizer\n",
        "from nltk.corpus import stopwords\n",
        "from nltk.stem import PorterStemmer\n",
        "from nltk.tokenize import TweetTokenizer"
      ],
      "execution_count": 1,
      "outputs": []
    },
    {
      "cell_type": "code",
      "metadata": {
        "id": "QTMiN3pB8DyZ",
        "outputId": "d448fe8b-1684-4342-9106-c05952334556",
        "colab": {
          "base_uri": "https://localhost:8080/"
        }
      },
      "source": [
        "nltk.download('stopwords')\n",
        "nltk.download('twitter_samples')"
      ],
      "execution_count": 2,
      "outputs": [
        {
          "output_type": "stream",
          "text": [
            "[nltk_data] Downloading package stopwords to /root/nltk_data...\n",
            "[nltk_data]   Package stopwords is already up-to-date!\n",
            "[nltk_data] Downloading package twitter_samples to /root/nltk_data...\n",
            "[nltk_data]   Package twitter_samples is already up-to-date!\n"
          ],
          "name": "stdout"
        },
        {
          "output_type": "execute_result",
          "data": {
            "text/plain": [
              "True"
            ]
          },
          "metadata": {
            "tags": []
          },
          "execution_count": 2
        }
      ]
    },
    {
      "cell_type": "code",
      "metadata": {
        "id": "9MGs_5bfaLPA"
      },
      "source": [
        "all_positive_tweets = twitter_samples.strings('positive_tweets.json')\n",
        "all_negative_tweets = twitter_samples.strings('negative_tweets.json')\n",
        "\n",
        "# split the data into two pieces, one for training and one for testing (validation set)\n",
        "test_pos = all_positive_tweets[4000:]\n",
        "train_pos = all_positive_tweets[:4000]\n",
        "test_neg = all_negative_tweets[4000:]\n",
        "train_neg = all_negative_tweets[:4000]\n",
        "\n",
        "train_x = train_pos + train_neg\n",
        "test_x = test_pos + test_neg\n",
        "\n",
        "train_y = np.append(np.ones(len(train_pos)), np.zeros(len(train_neg)))\n",
        "test_y = np.append(np.ones(len(test_pos)), np.zeros(len(test_neg)))"
      ],
      "execution_count": 3,
      "outputs": []
    },
    {
      "cell_type": "code",
      "metadata": {
        "id": "NE1v2BtIaxfB",
        "outputId": "6f2440db-9e0e-4ff8-ca6f-4f40fb51a03d",
        "colab": {
          "base_uri": "https://localhost:8080/"
        }
      },
      "source": [
        "train_x[:3]"
      ],
      "execution_count": 4,
      "outputs": [
        {
          "output_type": "execute_result",
          "data": {
            "text/plain": [
              "['#FollowFriday @France_Inte @PKuchly57 @Milipol_Paris for being top engaged members in my community this week :)',\n",
              " '@Lamb2ja Hey James! How odd :/ Please call our Contact Centre on 02392441234 and we will be able to assist you :) Many thanks!',\n",
              " '@DespiteOfficial we had a listen last night :) As You Bleed is an amazing track. When are you in Scotland?!']"
            ]
          },
          "metadata": {
            "tags": []
          },
          "execution_count": 4
        }
      ]
    },
    {
      "cell_type": "code",
      "metadata": {
        "id": "GgA2NURnbewY",
        "outputId": "dd2747c5-f292-4b92-b282-6ee1fb6a55d7",
        "colab": {
          "base_uri": "https://localhost:8080/"
        }
      },
      "source": [
        "test_x[:3]"
      ],
      "execution_count": 5,
      "outputs": [
        {
          "output_type": "execute_result",
          "data": {
            "text/plain": [
              "['Bro:U wan cut hair anot,ur hair long Liao bo\\nMe:since ord liao,take it easy lor treat as save $ leave it longer :)\\nBro:LOL Sibei xialan',\n",
              " \"@heyclaireee is back! thnx God!!! i'm so happy :)\",\n",
              " '@BBCRadio3 thought it was my ears which were malfunctioning, thank goodness you cleared that one up with an apology :-)']"
            ]
          },
          "metadata": {
            "tags": []
          },
          "execution_count": 5
        }
      ]
    },
    {
      "cell_type": "markdown",
      "metadata": {
        "id": "uOMSDuTXb8lu"
      },
      "source": [
        "## Part 1. Process the Data\n",
        "\n",
        "For anu machine learning project, once you've gathered the data, the firts step is to make useful inputs to your model.\n",
        "\n",
        "- **Remove noise (stop words?)**: You will first want to remove noise from your data --that is, *remove words* that don't tell you much about the content. These include all common words like \"I, you, are, is, etc...\" that would not give us enough information on the sentiment.\n",
        "\n",
        "- **Remove symbols** such as stock market tickers, retweet symbols, hyperlink, and hastags because they cannot tell you a lot of information of the sentiment.\n",
        "\n",
        "- **Remove punctuation** from a tweet. The reason for doing this is because we want to treat words with or without the punctuation as the same word, instead of treating \"happy\", \"happy?\", \"happy!\", \"happy,\", \"happy.\" as different words.\n",
        "\n",
        "- **Stemm the words**.\n"
      ]
    },
    {
      "cell_type": "code",
      "metadata": {
        "id": "xFDrjQ7P7wAo"
      },
      "source": [
        "def process_tweet(tweet):\n",
        "    '''\n",
        "    Input:\n",
        "        tweet: a string containing a tweet\n",
        "    Output:\n",
        "        tweets_clean: a list of words containing the processed tweet\n",
        "\n",
        "    '''\n",
        "    stemmer = PorterStemmer()\n",
        "    stopwords_english = stopwords.words('english')\n",
        "    # remove stock market tickers like $GE\n",
        "    tweet = re.sub(r'\\$\\w*', '', tweet)\n",
        "    # remove old style retweet text \"RT\"\n",
        "    tweet = re.sub(r'^RT[\\s]+', '', tweet)\n",
        "    # remove hyperlinks\n",
        "    tweet = re.sub(r'https?:\\/\\/.*[\\r\\n]*', '', tweet)\n",
        "    # remove hashtags\n",
        "    # only removing the hash # sign from the word\n",
        "    tweet = re.sub(r'#', '', tweet)\n",
        "    # tokenize tweets\n",
        "    tokenizer = TweetTokenizer(preserve_case=False, strip_handles=True,\n",
        "                               reduce_len=True)\n",
        "    tweet_tokens = tokenizer.tokenize(tweet)\n",
        "\n",
        "    tweets_clean = []\n",
        "    for word in tweet_tokens:\n",
        "        if (word not in stopwords_english and  # remove stopwords\n",
        "            word not in string.punctuation):  # remove punctuation\n",
        "            # tweets_clean.append(word)\n",
        "            stem_word = stemmer.stem(word)  # stemming word\n",
        "            tweets_clean.append(stem_word)\n",
        "\n",
        "    return tweets_clean"
      ],
      "execution_count": 6,
      "outputs": []
    },
    {
      "cell_type": "code",
      "metadata": {
        "id": "l0YVDtLqbmdX",
        "outputId": "72d0c9c1-07d3-4969-8315-38b76f938cb3",
        "colab": {
          "base_uri": "https://localhost:8080/"
        }
      },
      "source": [
        "custom_tweet = \"RT @Twitter @chapagain Hello There! Have a great day. :) #good #morning http://chapagain.com.np\"\n",
        "\n",
        "process_tweet(custom_tweet)"
      ],
      "execution_count": 7,
      "outputs": [
        {
          "output_type": "execute_result",
          "data": {
            "text/plain": [
              "['hello', 'great', 'day', ':)', 'good', 'morn']"
            ]
          },
          "metadata": {
            "tags": []
          },
          "execution_count": 7
        }
      ]
    },
    {
      "cell_type": "markdown",
      "metadata": {
        "id": "P1Ffjjce8u2y"
      },
      "source": [
        "### Part 1.1. Implementing your helper functions\n",
        "\n",
        "To help train your naive bayes model, you will need to build a distionary hwre the keys are a (word, label) tuple and the values are the corresponding frequency. Note that the labels we'll use here are 1 for positive and 0 for negative.\n",
        "\n",
        "You wil also implement a `lookup()` helper function that takes in the `freqs` dictionary, a word and a label to return the number of times that tuple appears in the collection of tweets.\n",
        "\n",
        "For example: given a list of tweets `[\"I am rather excited\", \"you are rather happy]` and the label 1, the function will return a dictionary that contains the following key-value pairs:\n",
        "\n",
        "{(\"raher\", 1): 2, (\"happi\", 1): 1, (\"excit\", 1): 1}\n",
        "\n",
        "- Notice how for each word in the given string, the same label 1 is assigned to each word.\n",
        "\n",
        "- Notice how the words \"i\" and \"am\" are not saved, since they were removed as part of the cleaning process(stop words removal). "
      ]
    },
    {
      "cell_type": "code",
      "metadata": {
        "id": "tdRK2RA-7qE8"
      },
      "source": [
        "def count_tweets(results, tweets, ys):\n",
        "  '''\n",
        "  Input:\n",
        "    result: a dictionary that will be used to map each pair to its frequency \n",
        "    tweets: a list of tweets\n",
        "    ys: a list correspoding mapping each pair to its frequency\n",
        "\n",
        "  Output:\n",
        "    result: a dictionary mapping each pair to its frequency \n",
        "  '''\n",
        "  for y, tweet in zip(ys, tweets):\n",
        "    for word in process_tweet(tweet):\n",
        "      pair = (word, y)\n",
        "      result[pair] = result.get(pair, 0) + 1\n",
        "  return result"
      ],
      "execution_count": 8,
      "outputs": []
    },
    {
      "cell_type": "code",
      "metadata": {
        "id": "noYkh_3b80nJ",
        "outputId": "5cac1aef-e0d3-4691-a810-a23d60e37eb4",
        "colab": {
          "base_uri": "https://localhost:8080/"
        }
      },
      "source": [
        "result = {}\n",
        "tweets = ['i am happy', 'i am tricked', 'i am sad', 'i am tired', 'i am tired']\n",
        "ys = [1, 0, 0, 0, 0]\n",
        "count_tweets(result, tweets, ys)"
      ],
      "execution_count": 9,
      "outputs": [
        {
          "output_type": "execute_result",
          "data": {
            "text/plain": [
              "{('happi', 1): 1, ('sad', 0): 1, ('tire', 0): 2, ('trick', 0): 1}"
            ]
          },
          "metadata": {
            "tags": []
          },
          "execution_count": 9
        }
      ]
    },
    {
      "cell_type": "markdown",
      "metadata": {
        "id": "QPmnMkrAHaZG"
      },
      "source": [
        "Expected Output: {('happi', 1): 1, ('trick', 0): 1, ('sad', 0): 1, ('tire', 0): 2}"
      ]
    },
    {
      "cell_type": "markdown",
      "metadata": {
        "id": "3DVkOtT2HgmD"
      },
      "source": [
        "## Part 2. Train a Naive Bayes model\n",
        "\n",
        "Naive bayes is an algorithm that could be used for sentiment analysis. It takes a short time to train and also a short prediction time.\n",
        "\n",
        "How do you train a Naive Bayes classifier?\n",
        "\n",
        "- The first step if to identify the number of classes.\n",
        "- Create a probability for each class. $P(D_{pos})$ is the probability that the document is positive. $P(D_{neg})$ is the probability that the document is negative. Use the formulas as follows and store the values in a dictionary:\n",
        "\n",
        "$$P(D_{pos}) = \\frac{D_{pos}}{D}\\tag{1}$$\n",
        "$$P(D_{neg}) = \\frac{D_{neg}}{D}\\tag{2}$$\n",
        "\n",
        "Where:\n",
        "\n",
        "*   $D$ is the total number of documents, or tweets in this case.\n",
        "*   $D_{pos}$ is the total number of positive tweets\n",
        "*   $D_{neg}$ is the total number of negative tweets\n",
        "\n",
        "\n"
      ]
    },
    {
      "cell_type": "markdown",
      "metadata": {
        "id": "ntcRAgSHKfxC"
      },
      "source": [
        "#### Prior and Logprior\n",
        "\n",
        "The prior probability represents the underlying probability in the target population that a tweet is positive versus negative.  In other words, if we had no specific information and blindly picked a tweet out of the population set, what is the probability that it will be positive versus that it will be negative? That is the \"prior\".\n",
        "\n",
        "The prior is the ratio of the probabilities $\\frac{P(D_{pos})}{P(D_{neg})}$.\n",
        "We can take the log of the prior to rescale it, and we'll call this the logprior\n",
        "\n",
        "$$\\text{logprior} = log \\left( \\frac{P(D_{pos})}{P(D_{neg})} \\right) = log \\left( \\frac{D_{pos}}{D_{neg}} \\right)$$.\n",
        "\n",
        "Note that $log(\\frac{A}{B})$ is the same as $log(A) - log(B)$.  So the logprior can also be calculated as the difference between two logs:\n",
        "\n",
        "$$\\text{logprior} = \\log (P(D_{pos})) - \\log (P(D_{neg})) = \\log (D_{pos}) - \\log (D_{neg})\\tag{3}$$"
      ]
    },
    {
      "cell_type": "markdown",
      "metadata": {
        "id": "-evZZeluNfDh"
      },
      "source": [
        "#### Positive and Negative Probability of a Word (Laplace Smoothing)\n",
        "To compute the positive probability and the negative probability for a specific word in the vocabulary, we'll use the following inputs:\n",
        "\n",
        "- $freq_{pos}$ and $freq_{neg}$ are the frequencies of that specific word in the positive or negative class. In other words, the positive frequency of a word is the number of times the word is counted with the label of 1.\n",
        "- $N_{pos}$ and $N_{neg}$ are the total number of positive and negative words for all documents (for all tweets), respectively.\n",
        "- $V$ is the number of unique words in the entire set of documents, for all classes, whether positive or negative.\n",
        "\n",
        "We'll use these to compute the positive and negative probability for a specific word using this formula:\n",
        "\n",
        "$$ P(W_{pos}) = \\frac{freq_{pos} + 1}{N_{pos} + V}\\tag{4} $$\n",
        "$$ P(W_{neg}) = \\frac{freq_{neg} + 1}{N_{neg} + V}\\tag{5} $$\n",
        "\n",
        "Notice that we add the \"+1\" in the numerator for additive smoothing.  This [wiki article](https://en.wikipedia.org/wiki/Additive_smoothing) explains more about additive smoothing."
      ]
    },
    {
      "cell_type": "markdown",
      "metadata": {
        "id": "CepMyhIrN1X4"
      },
      "source": [
        "#### Log likelihood\n",
        "To compute the loglikelihood of that very same word, we can implement the following equations:\n",
        "\n",
        "$$\\text{loglikelihood} = \\log \\left(\\frac{P(W_{pos})}{P(W_{neg})} \\right)\\tag{6}$$"
      ]
    },
    {
      "cell_type": "markdown",
      "metadata": {
        "id": "MU_5wOZKN2Ni"
      },
      "source": [
        "##### Create `freqs` dictionary\n",
        "- Given your `count_tweets()` function, you can compute a dictionary called `freqs` that contains all the frequencies.\n",
        "- In this `freqs` dictionary, the key is the tuple (word, label)\n",
        "- The value is the number of times it has appeared.\n",
        "\n",
        "We will use this dictionary in several parts of this assignment."
      ]
    },
    {
      "cell_type": "code",
      "metadata": {
        "id": "I75gcMJvN0t3",
        "outputId": "02ae7a7a-d32d-42a4-9eaa-855be317ad0b",
        "colab": {
          "base_uri": "https://localhost:8080/"
        }
      },
      "source": [
        "# Build the freqs dictionary for later uses\n",
        "\n",
        "freqs = count_tweets({}, train_x, train_y)\n",
        "len(freqs)"
      ],
      "execution_count": 10,
      "outputs": [
        {
          "output_type": "execute_result",
          "data": {
            "text/plain": [
              "11346"
            ]
          },
          "metadata": {
            "tags": []
          },
          "execution_count": 10
        }
      ]
    },
    {
      "cell_type": "markdown",
      "metadata": {
        "id": "mScdhN5DPeox"
      },
      "source": [
        "#### Instructions\n",
        "Given a freqs dictionary, `train_x` (a list of tweets) and a `train_y` (a list of labels for each tweet), implement a naive bayes classifier.\n",
        "\n",
        "##### Calculate $V$\n",
        "- `V  is the number of unique words in the entire set of documents, for all classes, whether positive or negative.`\n",
        "\n",
        "- You can then compute the number of unique words that appear in the `freqs` dictionary to get your $V$ (you can use the `set` function).\n"
      ]
    },
    {
      "cell_type": "code",
      "metadata": {
        "id": "H4lK4c0LQ2iu",
        "outputId": "9b86fac0-d260-4232-8c36-65eae58f9165",
        "colab": {
          "base_uri": "https://localhost:8080/"
        }
      },
      "source": [
        "vocab = set(word for word, _ in freqs) \n",
        "V= len(vocab)\n",
        "V"
      ],
      "execution_count": 11,
      "outputs": [
        {
          "output_type": "execute_result",
          "data": {
            "text/plain": [
              "9089"
            ]
          },
          "metadata": {
            "tags": []
          },
          "execution_count": 11
        }
      ]
    },
    {
      "cell_type": "markdown",
      "metadata": {
        "id": "-MzGuaRrSrb4"
      },
      "source": [
        "##### Calculate $freq_{pos}$ and $freq_{neg}$\n",
        "- Using your `freqs` dictionary, you can compute the positive and negative frequency of each word $freq_{pos}$ and $freq_{neg}$.\n",
        "\n",
        "**Calculate $N_{pos}$ and $N_{neg}$**\n",
        "- Using `freqs` dictionary, you can also compute the total number of positive words and total number of negative words $N_{pos}$ and $N_{neg}$.\n"
      ]
    },
    {
      "cell_type": "code",
      "metadata": {
        "id": "fZ6vQqxySrAS",
        "outputId": "b43aaa78-9615-47b0-e278-0a77c7aff787",
        "colab": {
          "base_uri": "https://localhost:8080/"
        }
      },
      "source": [
        "# calculate N_pos and N_neg\n",
        "NEGATIVE = 0\n",
        "POSITIVE = 1\n",
        "N_pos = N_neg = 0\n",
        "for word, sentiment in freqs:\n",
        "    freq = freqs[(word, sentiment)]\n",
        "    # if the label is positive (greater than zero)\n",
        "    if sentiment == POSITIVE:\n",
        "        # Increment the number of positive words by the count for this (word, label) pair\n",
        "        N_pos += freq\n",
        "\n",
        "    # else, the label is negative\n",
        "    else:\n",
        "\n",
        "        # increment the number of negative words by the count for this (word,label) pair\n",
        "        N_neg += freq\n",
        "N_neg, N_pos"
      ],
      "execution_count": 12,
      "outputs": [
        {
          "output_type": "execute_result",
          "data": {
            "text/plain": [
              "(27044, 26846)"
            ]
          },
          "metadata": {
            "tags": []
          },
          "execution_count": 12
        }
      ]
    },
    {
      "cell_type": "markdown",
      "metadata": {
        "id": "ypxcH5YOWEk8"
      },
      "source": [
        "##### Calculate $D$, $D_{pos}$, $D_{neg}$\n",
        "- Using the `train_y` input list of labels, calculate the number of documents (tweets) $D$, as well as the number of positive documents (tweets) $D_{pos}$ and number of negative documents (tweets) $D_{neg}$.\n",
        "- Calculate the probability that a document (tweet) is positive $P(D_{pos})$, and the probability that a document (tweet) is negative $P(D_{neg})$"
      ]
    },
    {
      "cell_type": "code",
      "metadata": {
        "id": "QQGzpIl9WETV",
        "outputId": "aec06d92-f4e9-48c5-ea83-5d12ddebe521",
        "colab": {
          "base_uri": "https://localhost:8080/"
        }
      },
      "source": [
        "# calculate D, the number of documents\n",
        "D = len(train_y)\n",
        "D"
      ],
      "execution_count": 13,
      "outputs": [
        {
          "output_type": "execute_result",
          "data": {
            "text/plain": [
              "8000"
            ]
          },
          "metadata": {
            "tags": []
          },
          "execution_count": 13
        }
      ]
    },
    {
      "cell_type": "code",
      "metadata": {
        "id": "GRswoseKWSza",
        "outputId": "91771071-19b7-421b-993a-a47f5ef8a14c",
        "colab": {
          "base_uri": "https://localhost:8080/"
        }
      },
      "source": [
        "# calculate D_pos, the number of possitive documents \n",
        "D_pos = sum(train_y)\n",
        "D_pos"
      ],
      "execution_count": 14,
      "outputs": [
        {
          "output_type": "execute_result",
          "data": {
            "text/plain": [
              "4000.0"
            ]
          },
          "metadata": {
            "tags": []
          },
          "execution_count": 14
        }
      ]
    },
    {
      "cell_type": "code",
      "metadata": {
        "id": "DmAVanjKW9bE",
        "outputId": "b8f4ae84-7329-44af-d486-6eee8b8890b8",
        "colab": {
          "base_uri": "https://localhost:8080/"
        }
      },
      "source": [
        "# calculate D_neg, the number of negative documents \n",
        "D_neg = D - D_pos \n",
        "D_neg"
      ],
      "execution_count": 15,
      "outputs": [
        {
          "output_type": "execute_result",
          "data": {
            "text/plain": [
              "4000.0"
            ]
          },
          "metadata": {
            "tags": []
          },
          "execution_count": 15
        }
      ]
    },
    {
      "cell_type": "markdown",
      "metadata": {
        "id": "wFluGLpBXWMm"
      },
      "source": [
        "##### Calculate the logprior\n",
        "- the logprior is $log(D_{pos}) - log(D_{neg})$"
      ]
    },
    {
      "cell_type": "code",
      "metadata": {
        "id": "2vTOHrTMXWAJ",
        "outputId": "278f5bf7-3c05-4c9e-eea6-60ca699acb0b",
        "colab": {
          "base_uri": "https://localhost:8080/"
        }
      },
      "source": [
        "logprior = np.log(D_pos) - np.log(D_neg)\n",
        "logprior"
      ],
      "execution_count": 16,
      "outputs": [
        {
          "output_type": "execute_result",
          "data": {
            "text/plain": [
              "0.0"
            ]
          },
          "metadata": {
            "tags": []
          },
          "execution_count": 16
        }
      ]
    },
    {
      "cell_type": "markdown",
      "metadata": {
        "id": "exSx2nNCX9-H"
      },
      "source": [
        "##### Calculate log likelihood\n",
        "- Finally, you can iterate over each word in the vocabulary, use your `lookup` function to get the positive frequencies, $freq_{pos}$, and the negative frequencies, $freq_{neg}$, for that specific word.\n",
        "- Compute the positive probability of each word $P(W_{pos})$, negative probability of each word $P(W_{neg})$ using equations 4 & 5.\n",
        "\n",
        "$$ P(W_{pos}) = \\frac{freq_{pos} + 1}{N_{pos} + V}\\tag{4} $$\n",
        "$$ P(W_{neg}) = \\frac{freq_{neg} + 1}{N_{neg} + V}\\tag{5} $$\n",
        "\n",
        "**Note:** We'll use a dictionary to store the log likelihoods for each word.  The key is the word, the value is the log likelihood of that word).\n",
        "\n",
        "- You can then compute the loglikelihood: $log \\left( \\frac{P(W_{pos})}{P(W_{neg})} \\right)\\tag{6}$."
      ]
    },
    {
      "cell_type": "code",
      "metadata": {
        "id": "SsxDUbHMX9an"
      },
      "source": [
        "def lookup(freqs, word, label):\n",
        "    '''\n",
        "    Input:\n",
        "        freqs: a dictionary with the frequency of each pair (or tuple)\n",
        "        word: the word to look up\n",
        "        label: the label corresponding to the word\n",
        "    Output:\n",
        "        n: the number of times the word with its corresponding label appears.\n",
        "    ''' \n",
        "    return freqs.get((word, label), 0)     "
      ],
      "execution_count": 17,
      "outputs": []
    },
    {
      "cell_type": "code",
      "metadata": {
        "id": "vmfz1kELZEIX"
      },
      "source": [
        "test_freqs = {('sad', 0): 4,\n",
        "          ('happy', 1): 12,\n",
        "          ('oppressed', 0): 7}\n",
        "\n",
        "assert lookup(test_freqs, 'happy', 1) == 12\n",
        "assert lookup(test_freqs, 'happy', 0) == 0\n",
        "assert lookup(test_freqs, 'does_not_exists', 1) == 0\n"
      ],
      "execution_count": 24,
      "outputs": []
    },
    {
      "cell_type": "markdown",
      "metadata": {
        "id": "9GJHeo9na1nH"
      },
      "source": [
        "$ P(W_{class}) = \\frac{freq_{class} + 1}{N_{class} + V}$"
      ]
    },
    {
      "cell_type": "code",
      "metadata": {
        "id": "ZwkVHvEDX9IJ",
        "outputId": "8f163516-8509-48e3-bb6d-3f51a5ce93df",
        "colab": {
          "base_uri": "https://localhost:8080/"
        }
      },
      "source": [
        "loglikelihood = {}\n",
        "# For each word in the vocabulary...\n",
        "for word in vocab:\n",
        "    # get the positive and negative frequency of the word\n",
        "    freq_pos = lookup(freqs, word, POSITIVE)\n",
        "    freq_neg = lookup(freqs, word, NEGATIVE)\n",
        "\n",
        "    # calculate the probability that each word is positive, and negative\n",
        "    p_w_pos = (freq_pos + 1) / (N_pos + V)\n",
        "    p_w_neg = (freq_neg + 1) / (N_neg + V)\n",
        "\n",
        "    # calculate the log likelihood of the word\n",
        "    loglikelihood[word] = np.log(p_w_pos / p_w_neg)\n",
        "loglikelihood"
      ],
      "execution_count": 21,
      "outputs": [
        {
          "output_type": "execute_result",
          "data": {
            "text/plain": [
              "{'steroid': 0.005494824282227851,\n",
              " \"tomorrow'\": 0.005494824282227851,\n",
              " 'waseem': 0.005494824282227851,\n",
              " 'employ': 0.005494824282227851,\n",
              " 'hop': 0.005494824282227851,\n",
              " 'manifest': 0.005494824282227851,\n",
              " '. ..': 0.005494824282227851,\n",
              " '4am': 0.005494824282227851,\n",
              " 'poootek': 0.005494824282227851,\n",
              " 'drinkt': 0.005494824282227851,\n",
              " 'donutsss': 0.005494824282227851,\n",
              " 'anyth': 0.005494824282227851,\n",
              " 'sin': 0.005494824282227851,\n",
              " 'let': 0.005494824282227851,\n",
              " 'jenni': 0.005494824282227851,\n",
              " 'angle.nelson': 0.005494824282227851,\n",
              " 'ja': 0.005494824282227851,\n",
              " 'hahahahahaah': 0.005494824282227851,\n",
              " '737gold': 0.005494824282227851,\n",
              " 'homegirl': 0.005494824282227851,\n",
              " 'penacova': 0.005494824282227851,\n",
              " 'subgam': 0.005494824282227851,\n",
              " 'scroll': 0.005494824282227851,\n",
              " 'mist': 0.005494824282227851,\n",
              " 'cakehamp': 0.005494824282227851,\n",
              " 'smug': 0.005494824282227851,\n",
              " '1tb': 0.005494824282227851,\n",
              " '334': 0.005494824282227851,\n",
              " 'noseble': 0.005494824282227851,\n",
              " 'umair': 0.005494824282227851,\n",
              " 'hav': 0.005494824282227851,\n",
              " 'passport': 0.005494824282227851,\n",
              " 'sunni': 0.005494824282227851,\n",
              " 'harriet': 0.005494824282227851,\n",
              " 'orang': 0.005494824282227851,\n",
              " 'optim': 0.005494824282227851,\n",
              " 'juici': 0.005494824282227851,\n",
              " 'ricky_feb': 0.005494824282227851,\n",
              " 'etid': 0.005494824282227851,\n",
              " 'wakeup': 0.005494824282227851,\n",
              " '5ever': 0.005494824282227851,\n",
              " 'town': 0.005494824282227851,\n",
              " 'ftw': 0.005494824282227851,\n",
              " 'chalut': 0.005494824282227851,\n",
              " 'could': 0.005494824282227851,\n",
              " 'activ': 0.005494824282227851,\n",
              " 'marshmallow': 0.005494824282227851,\n",
              " 'dhaka': 0.005494824282227851,\n",
              " 'drink': 0.005494824282227851,\n",
              " 'gl': 0.005494824282227851,\n",
              " 'lagi': 0.005494824282227851,\n",
              " 'nstp': 0.005494824282227851,\n",
              " 'krystoria': 0.005494824282227851,\n",
              " 'hahaha': 0.005494824282227851,\n",
              " 'x34': 0.005494824282227851,\n",
              " 'circuit': 0.005494824282227851,\n",
              " 'mjhe': 0.005494824282227851,\n",
              " 'domest': 0.005494824282227851,\n",
              " 'zokay': 0.005494824282227851,\n",
              " 'atchya': 0.005494824282227851,\n",
              " \"it'll\": 0.005494824282227851,\n",
              " 'hallo': 0.005494824282227851,\n",
              " 'stay_bless': 0.005494824282227851,\n",
              " 'racist': 0.005494824282227851,\n",
              " 'ore': 0.005494824282227851,\n",
              " 'hyungwon': 0.005494824282227851,\n",
              " 'emeg': 0.005494824282227851,\n",
              " 'lotteri': 0.005494824282227851,\n",
              " 'sexual': 0.005494824282227851,\n",
              " 'bruis': 0.005494824282227851,\n",
              " 'trespass': 0.005494824282227851,\n",
              " 'pallavi': 0.005494824282227851,\n",
              " 'videograph': 0.005494824282227851,\n",
              " 'screenshot': 0.005494824282227851,\n",
              " 'region': 0.005494824282227851,\n",
              " 'vinylbear': 0.005494824282227851,\n",
              " 'aval': 0.005494824282227851,\n",
              " 'wayanadan': 0.005494824282227851,\n",
              " 'uncount': 0.005494824282227851,\n",
              " 'mice': 0.005494824282227851,\n",
              " 'anyar': 0.005494824282227851,\n",
              " '👍': 0.005494824282227851,\n",
              " 'russian': 0.005494824282227851,\n",
              " 'nasti': 0.005494824282227851,\n",
              " 'furbabi': 0.005494824282227851,\n",
              " '15ml': 0.005494824282227851,\n",
              " '10:30': 0.005494824282227851,\n",
              " 'mo': 0.005494824282227851,\n",
              " 'tip': 0.005494824282227851,\n",
              " 'gent': 0.005494824282227851,\n",
              " '1dfor': 0.005494824282227851,\n",
              " 'make': 0.005494824282227851,\n",
              " 'bride': 0.005494824282227851,\n",
              " 'lovey': 0.005494824282227851,\n",
              " 'brave': 0.005494824282227851,\n",
              " 'saffron': 0.005494824282227851,\n",
              " 'virtual': 0.005494824282227851,\n",
              " 'zayyyn': 0.005494824282227851,\n",
              " 'socent': 0.005494824282227851,\n",
              " 'ku': 0.005494824282227851,\n",
              " 'gym': 0.005494824282227851,\n",
              " 'ireland': 0.005494824282227851,\n",
              " 'alic': 0.005494824282227851,\n",
              " 'non-filipina': 0.005494824282227851,\n",
              " 'baggag': 0.005494824282227851,\n",
              " 'ack': 0.005494824282227851,\n",
              " 'style': 0.005494824282227851,\n",
              " 'misspelt': 0.005494824282227851,\n",
              " 'manteca': 0.005494824282227851,\n",
              " 'aminormalyet': 0.005494824282227851,\n",
              " 'raiz': 0.005494824282227851,\n",
              " 'lie': 0.005494824282227851,\n",
              " 'knit': 0.005494824282227851,\n",
              " 'blinkin': 0.005494824282227851,\n",
              " 'hschool': 0.005494824282227851,\n",
              " 'hiss': 0.005494824282227851,\n",
              " 'kebaya': 0.005494824282227851,\n",
              " 'threaten': 0.005494824282227851,\n",
              " '😵': 0.005494824282227851,\n",
              " 'founder': 0.005494824282227851,\n",
              " 'imac': 0.005494824282227851,\n",
              " 'urgh': 0.005494824282227851,\n",
              " 'genuin': 0.005494824282227851,\n",
              " 'daze': 0.005494824282227851,\n",
              " 'rap': 0.005494824282227851,\n",
              " 'redhead': 0.005494824282227851,\n",
              " 'superpow': 0.005494824282227851,\n",
              " 'arrest': 0.005494824282227851,\n",
              " 'kpop': 0.005494824282227851,\n",
              " 'storifi': 0.005494824282227851,\n",
              " 'paper': 0.005494824282227851,\n",
              " 'townsss': 0.005494824282227851,\n",
              " 'healthylifestyl': 0.005494824282227851,\n",
              " '350': 0.005494824282227851,\n",
              " 'river': 0.005494824282227851,\n",
              " 'infect': 0.005494824282227851,\n",
              " 'singer': 0.005494824282227851,\n",
              " 'catch': 0.005494824282227851,\n",
              " 'artist': 0.005494824282227851,\n",
              " 'snow': 0.005494824282227851,\n",
              " 'addmeonsnapchat': 0.005494824282227851,\n",
              " 'grim': 0.005494824282227851,\n",
              " 'shor': 0.005494824282227851,\n",
              " 'freebiefriday': 0.005494824282227851,\n",
              " 'context': 0.005494824282227851,\n",
              " 'oe': 0.005494824282227851,\n",
              " 'inaccur': 0.005494824282227851,\n",
              " 'le': 0.005494824282227851,\n",
              " 'lone': 0.005494824282227851,\n",
              " 'feelgoodfriday': 0.005494824282227851,\n",
              " 'fuzzi': 0.005494824282227851,\n",
              " 'thiz': 0.005494824282227851,\n",
              " 'oppos': 0.005494824282227851,\n",
              " 'match': 0.005494824282227851,\n",
              " 'unknown': 0.005494824282227851,\n",
              " 'sharyl': 0.005494824282227851,\n",
              " 'aug': 0.005494824282227851,\n",
              " 'pleasanton': 0.005494824282227851,\n",
              " 'xcylin': 0.005494824282227851,\n",
              " 'prydz': 0.005494824282227851,\n",
              " 'switch': 0.005494824282227851,\n",
              " 'suitabl': 0.005494824282227851,\n",
              " 'religion': 0.005494824282227851,\n",
              " 'stan': 0.005494824282227851,\n",
              " 'fav': 0.005494824282227851,\n",
              " 'topwat': 0.005494824282227851,\n",
              " 'h_my_k': 0.005494824282227851,\n",
              " 'local': 0.005494824282227851,\n",
              " 'mischiev': 0.005494824282227851,\n",
              " 'srbija': 0.005494824282227851,\n",
              " 'easi': 0.005494824282227851,\n",
              " 'virgin': 0.005494824282227851,\n",
              " 'rehears': 0.005494824282227851,\n",
              " '2hr': 0.005494824282227851,\n",
              " 'chaotic': 0.005494824282227851,\n",
              " 'népal': 0.005494824282227851,\n",
              " 'inapropri': 0.005494824282227851,\n",
              " 'gold': 0.005494824282227851,\n",
              " 'yesss': 0.005494824282227851,\n",
              " 'wayanad': 0.005494824282227851,\n",
              " 'ang': 0.005494824282227851,\n",
              " 'jumma_mubarik': 0.005494824282227851,\n",
              " 'bewar': 0.005494824282227851,\n",
              " 'bolling': 0.005494824282227851,\n",
              " 'suav': 0.005494824282227851,\n",
              " 'shinsengumi': 0.005494824282227851,\n",
              " 'whattsap': 0.005494824282227851,\n",
              " 'glow': 0.005494824282227851,\n",
              " 'rewert': 0.005494824282227851,\n",
              " 'villag': 0.005494824282227851,\n",
              " 'razzist': 0.005494824282227851,\n",
              " 'magstart': 0.005494824282227851,\n",
              " '😍': 0.005494824282227851,\n",
              " 'giddi': 0.005494824282227851,\n",
              " 'equal': 0.005494824282227851,\n",
              " 'aztec': 0.005494824282227851,\n",
              " 'grace': 0.005494824282227851,\n",
              " 'dough': 0.005494824282227851,\n",
              " '😌': 0.005494824282227851,\n",
              " 'drama': 0.005494824282227851,\n",
              " 'kashi': 0.005494824282227851,\n",
              " 'retard': 0.005494824282227851,\n",
              " 'drew': 0.005494824282227851,\n",
              " 'reset': 0.005494824282227851,\n",
              " 'ok': 0.005494824282227851,\n",
              " 'pluckersss': 0.005494824282227851,\n",
              " 'foreveralon': 0.005494824282227851,\n",
              " 'warehous': 0.005494824282227851,\n",
              " 'yepp': 0.005494824282227851,\n",
              " 'lrka': 0.005494824282227851,\n",
              " 'whomosexu': 0.005494824282227851,\n",
              " 'sr': 0.005494824282227851,\n",
              " 'immun': 0.005494824282227851,\n",
              " 'milo': 0.005494824282227851,\n",
              " '5pm': 0.005494824282227851,\n",
              " 'surri': 0.005494824282227851,\n",
              " 'push': 0.005494824282227851,\n",
              " 'worker': 0.005494824282227851,\n",
              " 'chateau': 0.005494824282227851,\n",
              " 'snob': 0.005494824282227851,\n",
              " 'edm': 0.005494824282227851,\n",
              " 'bugbounti': 0.005494824282227851,\n",
              " 'etern': 0.005494824282227851,\n",
              " 'tutori': 0.005494824282227851,\n",
              " 'beij': 0.005494824282227851,\n",
              " 'stefani': 0.005494824282227851,\n",
              " 'nathan': 0.005494824282227851,\n",
              " 'kumpul': 0.005494824282227851,\n",
              " 'fank': 0.005494824282227851,\n",
              " 'onion': 0.005494824282227851,\n",
              " 'yg': 0.005494824282227851,\n",
              " 'audraesar': 0.005494824282227851,\n",
              " 'spam': 0.005494824282227851,\n",
              " 'taco': 0.005494824282227851,\n",
              " 'struggl': 0.005494824282227851,\n",
              " 'definit': 0.005494824282227851,\n",
              " 'sugarrush': 0.005494824282227851,\n",
              " 'nobodi': 0.005494824282227851,\n",
              " 'racial': 0.005494824282227851,\n",
              " 'refurbish': 0.005494824282227851,\n",
              " 'actual': 0.005494824282227851,\n",
              " 'felic': 0.005494824282227851,\n",
              " 'race': 0.005494824282227851,\n",
              " 'bjp': 0.005494824282227851,\n",
              " 'shitfac': 0.005494824282227851,\n",
              " '3-0': 0.005494824282227851,\n",
              " 'codi': 0.005494824282227851,\n",
              " 'random': 0.005494824282227851,\n",
              " 'behind': 0.005494824282227851,\n",
              " 'warn': 0.005494824282227851,\n",
              " 'kami': 0.005494824282227851,\n",
              " 'cart': 0.005494824282227851,\n",
              " 'morocco': 0.005494824282227851,\n",
              " 'hairi': 0.005494824282227851,\n",
              " 'alhamdullilah': 0.005494824282227851,\n",
              " 'ha': 0.005494824282227851,\n",
              " 'daughter': 0.005494824282227851,\n",
              " 'violenc': 0.005494824282227851,\n",
              " 'annyeong': 0.005494824282227851,\n",
              " 'monsoon': 0.005494824282227851,\n",
              " 'maa': 0.005494824282227851,\n",
              " 'shot': 0.005494824282227851,\n",
              " 'plisss': 0.005494824282227851,\n",
              " 'fam': 0.005494824282227851,\n",
              " 'sleepingwithsiren': 0.005494824282227851,\n",
              " 'said': 0.005494824282227851,\n",
              " 'x4': 0.005494824282227851,\n",
              " 'bcu': 0.005494824282227851,\n",
              " 'wip': 0.005494824282227851,\n",
              " 'cont': 0.005494824282227851,\n",
              " '18.99': 0.005494824282227851,\n",
              " 'legibl': 0.005494824282227851,\n",
              " 'viva': 0.005494824282227851,\n",
              " 'mass': 0.005494824282227851,\n",
              " 'pg': 0.005494824282227851,\n",
              " 'todayyy': 0.005494824282227851,\n",
              " 'greet': 0.005494824282227851,\n",
              " 'penthous': 0.005494824282227851,\n",
              " 'premiun': 0.005494824282227851,\n",
              " '697': 0.005494824282227851,\n",
              " 'tomlinson': 0.005494824282227851,\n",
              " \"we'd\": 0.005494824282227851,\n",
              " 'фотосет': 0.005494824282227851,\n",
              " 'happinesss': 0.005494824282227851,\n",
              " 'dagga': 0.005494824282227851,\n",
              " 'sprite': 0.005494824282227851,\n",
              " 'awww': 0.005494824282227851,\n",
              " 'sydney': 0.005494824282227851,\n",
              " 'cajun': 0.005494824282227851,\n",
              " 'yer': 0.005494824282227851,\n",
              " 'upvot': 0.005494824282227851,\n",
              " 'loveofmylif': 0.005494824282227851,\n",
              " 'eh': 0.005494824282227851,\n",
              " \"millie'\": 0.005494824282227851,\n",
              " 'showbox': 0.005494824282227851,\n",
              " 'samjha': 0.005494824282227851,\n",
              " 'yeap': 0.005494824282227851,\n",
              " 'josh': 0.005494824282227851,\n",
              " '😄': 0.005494824282227851,\n",
              " 'repeat': 0.005494824282227851,\n",
              " 'guinea': 0.005494824282227851,\n",
              " 'mtn': 0.005494824282227851,\n",
              " 'php': 0.005494824282227851,\n",
              " 'lolzz': 0.005494824282227851,\n",
              " 'web': 0.005494824282227851,\n",
              " '08962464174': 0.005494824282227851,\n",
              " 'gibran': 0.005494824282227851,\n",
              " 'routin': 0.005494824282227851,\n",
              " 'sort': 0.005494824282227851,\n",
              " 'gensan': 0.005494824282227851,\n",
              " '1/5': 0.005494824282227851,\n",
              " 'yeahh': 0.005494824282227851,\n",
              " 'choregraph': 0.005494824282227851,\n",
              " 'gig': 0.005494824282227851,\n",
              " 'consider': 0.005494824282227851,\n",
              " 'jummah': 0.005494824282227851,\n",
              " 'reina': 0.005494824282227851,\n",
              " 'wise': 0.005494824282227851,\n",
              " 'consult': 0.005494824282227851,\n",
              " 'ps': 0.005494824282227851,\n",
              " 'print': 0.005494824282227851,\n",
              " 'xavier': 0.005494824282227851,\n",
              " 'oldschool': 0.005494824282227851,\n",
              " 'oppayaa': 0.005494824282227851,\n",
              " '121st': 0.005494824282227851,\n",
              " 'leader': 0.005494824282227851,\n",
              " 'breakup': 0.005494824282227851,\n",
              " 'sarah': 0.005494824282227851,\n",
              " 'brk': 0.005494824282227851,\n",
              " 'emul': 0.005494824282227851,\n",
              " 'fellow': 0.005494824282227851,\n",
              " 'heartbeat': 0.005494824282227851,\n",
              " 'motherfuck': 0.005494824282227851,\n",
              " 'yipppi': 0.005494824282227851,\n",
              " 'confus': 0.005494824282227851,\n",
              " 'pano': 0.005494824282227851,\n",
              " 'pkwalasawa': 0.005494824282227851,\n",
              " 'cool': 0.005494824282227851,\n",
              " 'bottom': 0.005494824282227851,\n",
              " 'wind': 0.005494824282227851,\n",
              " 'yodel': 0.005494824282227851,\n",
              " 'lab': 0.005494824282227851,\n",
              " 'sure': 0.005494824282227851,\n",
              " 'narcissist': 0.005494824282227851,\n",
              " 'last': 0.005494824282227851,\n",
              " 'osea': 0.005494824282227851,\n",
              " \"party'\": 0.005494824282227851,\n",
              " 'easili': 0.005494824282227851,\n",
              " 'ridicul': 0.005494824282227851,\n",
              " 'soooner': 0.005494824282227851,\n",
              " 'network': 0.005494824282227851,\n",
              " 'ralli': 0.005494824282227851,\n",
              " 'fanci': 0.005494824282227851,\n",
              " 'paint': 0.005494824282227851,\n",
              " 'glorifi': 0.005494824282227851,\n",
              " 'york': 0.005494824282227851,\n",
              " 'jr': 0.005494824282227851,\n",
              " 'apologist': 0.005494824282227851,\n",
              " 'flawless': 0.005494824282227851,\n",
              " 'express': 0.005494824282227851,\n",
              " 'noon': 0.005494824282227851,\n",
              " 'jazz': 0.005494824282227851,\n",
              " 'ill': 0.005494824282227851,\n",
              " 'bother': 0.005494824282227851,\n",
              " 'mahnor': 0.005494824282227851,\n",
              " 'kinda': 0.005494824282227851,\n",
              " 'mosqu': 0.005494824282227851,\n",
              " 'button': 0.005494824282227851,\n",
              " 'leav': 0.005494824282227851,\n",
              " '2am': 0.005494824282227851,\n",
              " 'squat': 0.005494824282227851,\n",
              " 'prey': 0.005494824282227851,\n",
              " 'stealth': 0.005494824282227851,\n",
              " 'hahay': 0.005494824282227851,\n",
              " 'emptier': 0.005494824282227851,\n",
              " 'die-of': 0.005494824282227851,\n",
              " 'apexi': 0.005494824282227851,\n",
              " 'bloodi': 0.005494824282227851,\n",
              " 'muster': 0.005494824282227851,\n",
              " 'abligaverin': 0.005494824282227851,\n",
              " 'goodtim': 0.005494824282227851,\n",
              " 'lega': 0.005494824282227851,\n",
              " 'knockin': 0.005494824282227851,\n",
              " 'prophet': 0.005494824282227851,\n",
              " 'winner': 0.005494824282227851,\n",
              " 'underr': 0.005494824282227851,\n",
              " 'wiw': 0.005494824282227851,\n",
              " 'wsj': 0.005494824282227851,\n",
              " 'woza': 0.005494824282227851,\n",
              " 'news': 0.005494824282227851,\n",
              " 'pen': 0.005494824282227851,\n",
              " 'ily.melani': 0.005494824282227851,\n",
              " 'televot': 0.005494824282227851,\n",
              " 'gosh': 0.005494824282227851,\n",
              " 'swore': 0.005494824282227851,\n",
              " 'rescu': 0.005494824282227851,\n",
              " 'cough': 0.005494824282227851,\n",
              " ':P': 0.005494824282227851,\n",
              " 'forgotten': 0.005494824282227851,\n",
              " 'shini': 0.005494824282227851,\n",
              " 'otp': 0.005494824282227851,\n",
              " 'clearli': 0.005494824282227851,\n",
              " 'food': 0.005494824282227851,\n",
              " '1100d': 0.005494824282227851,\n",
              " 'mileag': 0.005494824282227851,\n",
              " 'ep': 0.005494824282227851,\n",
              " 'sme': 0.005494824282227851,\n",
              " 'chaloniklo': 0.005494824282227851,\n",
              " '343': 0.005494824282227851,\n",
              " \"emily'\": 0.005494824282227851,\n",
              " 'jail': 0.005494824282227851,\n",
              " 'cartoon': 0.005494824282227851,\n",
              " '60': 0.005494824282227851,\n",
              " 'keepitloc': 0.005494824282227851,\n",
              " 'bruno': 0.005494824282227851,\n",
              " '5am': 0.005494824282227851,\n",
              " 'wing': 0.005494824282227851,\n",
              " 'boo': 0.005494824282227851,\n",
              " 'sxrew': 0.005494824282227851,\n",
              " 'venu': 0.005494824282227851,\n",
              " '@artofsleepingin': 0.005494824282227851,\n",
              " 'cours': 0.005494824282227851,\n",
              " 'symphoni': 0.005494824282227851,\n",
              " 'cock': 0.005494824282227851,\n",
              " 'insid': 0.005494824282227851,\n",
              " 'mara': 0.005494824282227851,\n",
              " 'annnd': 0.005494824282227851,\n",
              " 'mojo': 0.005494824282227851,\n",
              " 'flew': 0.005494824282227851,\n",
              " \"australia'\": 0.005494824282227851,\n",
              " 'gendut': 0.005494824282227851,\n",
              " '2hour': 0.005494824282227851,\n",
              " 'usual': 0.005494824282227851,\n",
              " 'muntu': 0.005494824282227851,\n",
              " 'openfollow': 0.005494824282227851,\n",
              " 'futurereleas': 0.005494824282227851,\n",
              " 'outta': 0.005494824282227851,\n",
              " 'alot': 0.005494824282227851,\n",
              " 'dozen': 0.005494824282227851,\n",
              " 'pz': 0.005494824282227851,\n",
              " 'reput': 0.005494824282227851,\n",
              " 'worthi': 0.005494824282227851,\n",
              " 'august': 0.005494824282227851,\n",
              " 'ape': 0.005494824282227851,\n",
              " 'sinist': 0.005494824282227851,\n",
              " 'pilllow': 0.005494824282227851,\n",
              " 'mahon': 0.005494824282227851,\n",
              " 'hi': 0.005494824282227851,\n",
              " 'addicted-to-analsex': 0.005494824282227851,\n",
              " 'enviou': 0.005494824282227851,\n",
              " 'gawd': 0.005494824282227851,\n",
              " 'tuna': 0.005494824282227851,\n",
              " 'choke': 0.005494824282227851,\n",
              " 'fingers-cross': 0.005494824282227851,\n",
              " 'pbevent': 0.005494824282227851,\n",
              " 'duo': 0.005494824282227851,\n",
              " 'medit': 0.005494824282227851,\n",
              " 'inconsider': 0.005494824282227851,\n",
              " 'gather': 0.005494824282227851,\n",
              " 'onward': 0.005494824282227851,\n",
              " 'sakho': 0.005494824282227851,\n",
              " 'troubl': 0.005494824282227851,\n",
              " 'chronicl': 0.005494824282227851,\n",
              " 'diego': 0.005494824282227851,\n",
              " 'bbygurl': 0.005494824282227851,\n",
              " 'gem': 0.005494824282227851,\n",
              " 'gram': 0.005494824282227851,\n",
              " \"school'\": 0.005494824282227851,\n",
              " 'send': 0.005494824282227851,\n",
              " 'haw': 0.005494824282227851,\n",
              " 'speck': 0.005494824282227851,\n",
              " 'bldg': 0.005494824282227851,\n",
              " 'elli': 0.005494824282227851,\n",
              " 'kaha': 0.005494824282227851,\n",
              " 'barefoot': 0.005494824282227851,\n",
              " 'celebr': 0.005494824282227851,\n",
              " 'restart': 0.005494824282227851,\n",
              " 'difficult': 0.005494824282227851,\n",
              " 'forev': 0.005494824282227851,\n",
              " 'b2c': 0.005494824282227851,\n",
              " 'mubarik': 0.005494824282227851,\n",
              " 'slogan': 0.005494824282227851,\n",
              " 'orig': 0.005494824282227851,\n",
              " 'pokemon': 0.005494824282227851,\n",
              " 'accid': 0.005494824282227851,\n",
              " 'introduc': 0.005494824282227851,\n",
              " 'summon': 0.005494824282227851,\n",
              " 'amiibo': 0.005494824282227851,\n",
              " 'aur': 0.005494824282227851,\n",
              " '13': 0.005494824282227851,\n",
              " 'acid': 0.005494824282227851,\n",
              " 'dupa': 0.005494824282227851,\n",
              " 'warfar': 0.005494824282227851,\n",
              " 'lsa': 0.005494824282227851,\n",
              " 'anymoree': 0.005494824282227851,\n",
              " 'yellow': 0.005494824282227851,\n",
              " 'bbmpin': 0.005494824282227851,\n",
              " 'world': 0.005494824282227851,\n",
              " 'scene': 0.005494824282227851,\n",
              " 'rp': 0.005494824282227851,\n",
              " 'cant': 0.005494824282227851,\n",
              " '2weeksdontmissittoomuch': 0.005494824282227851,\n",
              " 'due': 0.005494824282227851,\n",
              " 'park': 0.005494824282227851,\n",
              " 'comp': 0.005494824282227851,\n",
              " 'blow': 0.005494824282227851,\n",
              " 'tummi': 0.005494824282227851,\n",
              " 'wine': 0.005494824282227851,\n",
              " \"infinite'\": 0.005494824282227851,\n",
              " 'em': 0.005494824282227851,\n",
              " 'birthdaaayyy': 0.005494824282227851,\n",
              " 'btu': 0.005494824282227851,\n",
              " 'aah': 0.005494824282227851,\n",
              " 'patient': 0.005494824282227851,\n",
              " 'locat': 0.005494824282227851,\n",
              " 'setter': 0.005494824282227851,\n",
              " 'coca': 0.005494824282227851,\n",
              " 'occas': 0.005494824282227851,\n",
              " 'avert': 0.005494824282227851,\n",
              " 'oppa': 0.005494824282227851,\n",
              " 'nicknam': 0.005494824282227851,\n",
              " 'izzat': 0.005494824282227851,\n",
              " 'leo': 0.005494824282227851,\n",
              " 'suprem': 0.005494824282227851,\n",
              " 'chanc': 0.005494824282227851,\n",
              " 'plug.dj': 0.005494824282227851,\n",
              " 'otwolgrandtrail': 0.005494824282227851,\n",
              " 'greek': 0.005494824282227851,\n",
              " 'vscophil': 0.005494824282227851,\n",
              " 'hawako': 0.005494824282227851,\n",
              " 'oven': 0.005494824282227851,\n",
              " 'homo': 0.005494824282227851,\n",
              " 'april': 0.005494824282227851,\n",
              " 'suitcas': 0.005494824282227851,\n",
              " 'hard-wir': 0.005494824282227851,\n",
              " 'bonu': 0.005494824282227851,\n",
              " 'helen': 0.005494824282227851,\n",
              " 'foto': 0.005494824282227851,\n",
              " 'may': 0.005494824282227851,\n",
              " 'boggl': 0.005494824282227851,\n",
              " 'apart': 0.005494824282227851,\n",
              " 'iph': 0.005494824282227851,\n",
              " 'mimi': 0.005494824282227851,\n",
              " 'fanta': 0.005494824282227851,\n",
              " 'flight': 0.005494824282227851,\n",
              " '009': 0.005494824282227851,\n",
              " 'exhaust': 0.005494824282227851,\n",
              " 'alarm': 0.005494824282227851,\n",
              " 'respect': 0.005494824282227851,\n",
              " 'indiemus': 0.005494824282227851,\n",
              " 'korea': 0.005494824282227851,\n",
              " 'vscocousin': 0.005494824282227851,\n",
              " 'wahahaah': 0.005494824282227851,\n",
              " 'canal': 0.005494824282227851,\n",
              " 'physiotherapi': 0.005494824282227851,\n",
              " 'ivypowel': 0.005494824282227851,\n",
              " 'rt': 0.005494824282227851,\n",
              " 'stage': 0.005494824282227851,\n",
              " 'cooler': 0.005494824282227851,\n",
              " 'etsi': 0.005494824282227851,\n",
              " 'partli': 0.005494824282227851,\n",
              " 'ariana': 0.005494824282227851,\n",
              " 'stretch': 0.005494824282227851,\n",
              " 'liquoric': 0.005494824282227851,\n",
              " 'spoil': 0.005494824282227851,\n",
              " 't___t': 0.005494824282227851,\n",
              " 'relax': 0.005494824282227851,\n",
              " 'industri': 0.005494824282227851,\n",
              " 'beh': 0.005494824282227851,\n",
              " 'ifc': 0.005494824282227851,\n",
              " 'suma': 0.005494824282227851,\n",
              " 'sprit': 0.005494824282227851,\n",
              " 'toma': 0.005494824282227851,\n",
              " 'makesm': 0.005494824282227851,\n",
              " 'spine': 0.005494824282227851,\n",
              " 'sissi': 0.005494824282227851,\n",
              " 'un': 0.005494824282227851,\n",
              " 'goood': 0.005494824282227851,\n",
              " 'jam': 0.005494824282227851,\n",
              " 'pull': 0.005494824282227851,\n",
              " '⅞': 0.005494824282227851,\n",
              " ':-)': 0.005494824282227851,\n",
              " 'wil': 0.005494824282227851,\n",
              " 'diva': 0.005494824282227851,\n",
              " 'explain': 0.005494824282227851,\n",
              " 'acad': 0.005494824282227851,\n",
              " 'ear': 0.005494824282227851,\n",
              " \"robert'\": 0.005494824282227851,\n",
              " 'imitatia': 0.005494824282227851,\n",
              " 'emot': 0.005494824282227851,\n",
              " 'church': 0.005494824282227851,\n",
              " 'perspect': 0.005494824282227851,\n",
              " 'watch': 0.005494824282227851,\n",
              " 'bir': 0.005494824282227851,\n",
              " 'extravag': 0.005494824282227851,\n",
              " 'austin': 0.005494824282227851,\n",
              " 'karani': 0.005494824282227851,\n",
              " 'incred': 0.005494824282227851,\n",
              " 'rodfanta': 0.005494824282227851,\n",
              " 'pon': 0.005494824282227851,\n",
              " 'hotfmnoaidilforariana': 0.005494824282227851,\n",
              " 'araw': 0.005494824282227851,\n",
              " 'immatur': 0.005494824282227851,\n",
              " 'aftenoon': 0.005494824282227851,\n",
              " '08': 0.005494824282227851,\n",
              " 'mixtap': 0.005494824282227851,\n",
              " 'rape': 0.005494824282227851,\n",
              " 'proper': 0.005494824282227851,\n",
              " 'guzel': 0.005494824282227851,\n",
              " 'seem': 0.005494824282227851,\n",
              " 'crash': 0.005494824282227851,\n",
              " \"son'\": 0.005494824282227851,\n",
              " 'everon': 0.005494824282227851,\n",
              " \"freddy'\": 0.005494824282227851,\n",
              " \"athena'\": 0.005494824282227851,\n",
              " 'x40': 0.005494824282227851,\n",
              " 'solid': 0.005494824282227851,\n",
              " 'angelo': 0.005494824282227851,\n",
              " 'vicki': 0.005494824282227851,\n",
              " 'ms': 0.005494824282227851,\n",
              " 'anoth': 0.005494824282227851,\n",
              " 'huh': 0.005494824282227851,\n",
              " '“': 0.005494824282227851,\n",
              " '6:30': 0.005494824282227851,\n",
              " 'siannn': 0.005494824282227851,\n",
              " 'halaaang': 0.005494824282227851,\n",
              " 'angelica': 0.005494824282227851,\n",
              " 'appar': 0.005494824282227851,\n",
              " 'fr': 0.005494824282227851,\n",
              " 'ry': 0.005494824282227851,\n",
              " 'amassiveoverdoseofship': 0.005494824282227851,\n",
              " 'taxikitchen': 0.005494824282227851,\n",
              " 'batalladelosgallo': 0.005494824282227851,\n",
              " 'srri': 0.005494824282227851,\n",
              " 'carriageway': 0.005494824282227851,\n",
              " 'tagsforlik': 0.005494824282227851,\n",
              " 'pora': 0.005494824282227851,\n",
              " 'instruct': 0.005494824282227851,\n",
              " 'sia': 0.005494824282227851,\n",
              " 'aminn': 0.005494824282227851,\n",
              " 'meooowww': 0.005494824282227851,\n",
              " 'goodluck': 0.005494824282227851,\n",
              " 'hub': 0.005494824282227851,\n",
              " 'entlead': 0.005494824282227851,\n",
              " 'version': 0.005494824282227851,\n",
              " 'sneezi': 0.005494824282227851,\n",
              " 'drove': 0.005494824282227851,\n",
              " 'comparison': 0.005494824282227851,\n",
              " 'nomoney': 0.005494824282227851,\n",
              " 'brolli': 0.005494824282227851,\n",
              " 'brasileirao': 0.005494824282227851,\n",
              " 'thankyouuu': 0.005494824282227851,\n",
              " 'taunton': 0.005494824282227851,\n",
              " 'emu': 0.005494824282227851,\n",
              " 'pri': 0.005494824282227851,\n",
              " 'hipster': 0.005494824282227851,\n",
              " 'basic': 0.005494824282227851,\n",
              " 'fast': 0.005494824282227851,\n",
              " 'sea': 0.005494824282227851,\n",
              " 'pretti': 0.005494824282227851,\n",
              " 'normal': 0.005494824282227851,\n",
              " 'ay': 0.005494824282227851,\n",
              " 'funer': 0.005494824282227851,\n",
              " 'buddyyi': 0.005494824282227851,\n",
              " 'sneaker': 0.005494824282227851,\n",
              " 'shorter': 0.005494824282227851,\n",
              " 'mental': 0.005494824282227851,\n",
              " 'refin': 0.005494824282227851,\n",
              " 'overnight': 0.005494824282227851,\n",
              " 'shame': 0.005494824282227851,\n",
              " 'fallout': 0.005494824282227851,\n",
              " 'uniqu': 0.005494824282227851,\n",
              " 'skill': 0.005494824282227851,\n",
              " 'skin': 0.005494824282227851,\n",
              " '3:02': 0.005494824282227851,\n",
              " 'awak': 0.005494824282227851,\n",
              " 'yhooo': 0.005494824282227851,\n",
              " 'x17': 0.005494824282227851,\n",
              " 'palac': 0.005494824282227851,\n",
              " '18': 0.005494824282227851,\n",
              " 'om': 0.005494824282227851,\n",
              " 'manchest': 0.005494824282227851,\n",
              " '31': 0.005494824282227851,\n",
              " 'nba': 0.005494824282227851,\n",
              " '20': 0.005494824282227851,\n",
              " 'mic': 0.005494824282227851,\n",
              " 'lymond': 0.005494824282227851,\n",
              " 'ndi': 0.005494824282227851,\n",
              " 'goodi': 0.005494824282227851,\n",
              " 'gorgeou': 0.005494824282227851,\n",
              " 'mwamwa': 0.005494824282227851,\n",
              " 'marathon': 0.005494824282227851,\n",
              " 'knee': 0.005494824282227851,\n",
              " 'gohf': 0.005494824282227851,\n",
              " 'te': 0.005494824282227851,\n",
              " 'vip': 0.005494824282227851,\n",
              " '76': 0.005494824282227851,\n",
              " '7df89150': 0.005494824282227851,\n",
              " 'nikkei': 0.005494824282227851,\n",
              " 'donut': 0.005494824282227851,\n",
              " 'isi': 0.005494824282227851,\n",
              " 'dominion': 0.005494824282227851,\n",
              " 'frnd': 0.005494824282227851,\n",
              " 'whangarei': 0.005494824282227851,\n",
              " 'hide': 0.005494824282227851,\n",
              " 'defens': 0.005494824282227851,\n",
              " 'ariel': 0.005494824282227851,\n",
              " 'dkt': 0.005494824282227851,\n",
              " 'theater': 0.005494824282227851,\n",
              " 'foreal': 0.005494824282227851,\n",
              " 'reward': 0.005494824282227851,\n",
              " 'naomi': 0.005494824282227851,\n",
              " 'burberri': 0.005494824282227851,\n",
              " \"lady'\": 0.005494824282227851,\n",
              " 'kristin': 0.005494824282227851,\n",
              " 'brother': 0.005494824282227851,\n",
              " 'huge': 0.005494824282227851,\n",
              " 'eeep': 0.005494824282227851,\n",
              " 'massiv': 0.005494824282227851,\n",
              " 'dua': 0.005494824282227851,\n",
              " \"here'\": 0.005494824282227851,\n",
              " 'winter': 0.005494824282227851,\n",
              " 'strap': 0.005494824282227851,\n",
              " 'naya': 0.005494824282227851,\n",
              " 'concert': 0.005494824282227851,\n",
              " 'product': 0.005494824282227851,\n",
              " 'bodi': 0.005494824282227851,\n",
              " 'option': 0.005494824282227851,\n",
              " 'gta': 0.005494824282227851,\n",
              " 'bump': 0.005494824282227851,\n",
              " 'immov': 0.005494824282227851,\n",
              " 'teas': 0.005494824282227851,\n",
              " 'hyper': 0.005494824282227851,\n",
              " 'moo': 0.005494824282227851,\n",
              " 'stomp': 0.005494824282227851,\n",
              " 'tramlin': 0.005494824282227851,\n",
              " 'notanapolog': 0.005494824282227851,\n",
              " 'talant': 0.005494824282227851,\n",
              " 'twin': 0.005494824282227851,\n",
              " 'unlov': 0.005494824282227851,\n",
              " 'x38': 0.005494824282227851,\n",
              " 'address': 0.005494824282227851,\n",
              " 'outfit': 0.005494824282227851,\n",
              " 'amm': 0.005494824282227851,\n",
              " 'flickr': 0.005494824282227851,\n",
              " '111': 0.005494824282227851,\n",
              " 'us-iran': 0.005494824282227851,\n",
              " 'accessori': 0.005494824282227851,\n",
              " 'decemb': 0.005494824282227851,\n",
              " 'bakar': 0.005494824282227851,\n",
              " 'kik': 0.005494824282227851,\n",
              " 'vandr': 0.005494824282227851,\n",
              " 'melodi': 0.005494824282227851,\n",
              " 'comedi': 0.005494824282227851,\n",
              " 'ba': 0.005494824282227851,\n",
              " 'junjou': 0.005494824282227851,\n",
              " 'shoulda': 0.005494824282227851,\n",
              " 'pier': 0.005494824282227851,\n",
              " 'hatessuc': 0.005494824282227851,\n",
              " 'yournaturallead': 0.005494824282227851,\n",
              " 'macauley': 0.005494824282227851,\n",
              " 'descript': 0.005494824282227851,\n",
              " 'sehun': 0.005494824282227851,\n",
              " 'interest': 0.005494824282227851,\n",
              " 'matthew': 0.005494824282227851,\n",
              " 'sandra': 0.005494824282227851,\n",
              " 'cuuut': 0.005494824282227851,\n",
              " 'odoo': 0.005494824282227851,\n",
              " \"f'ing\": 0.005494824282227851,\n",
              " 'athabasca': 0.005494824282227851,\n",
              " 'xxx': 0.005494824282227851,\n",
              " 'hopia': 0.005494824282227851,\n",
              " 'sulk': 0.005494824282227851,\n",
              " 'tseba': 0.005494824282227851,\n",
              " 'blurri': 0.005494824282227851,\n",
              " 'brief': 0.005494824282227851,\n",
              " 'chilton': 0.005494824282227851,\n",
              " 'toronto': 0.005494824282227851,\n",
              " '6gb': 0.005494824282227851,\n",
              " '156': 0.005494824282227851,\n",
              " 'nearli': 0.005494824282227851,\n",
              " 'matchi': 0.005494824282227851,\n",
              " 'x15': 0.005494824282227851,\n",
              " 'x45': 0.005494824282227851,\n",
              " 'boah': 0.005494824282227851,\n",
              " 'zzz': 0.005494824282227851,\n",
              " 'await': 0.005494824282227851,\n",
              " 'second': 0.005494824282227851,\n",
              " 'duck': 0.005494824282227851,\n",
              " 'punt': 0.005494824282227851,\n",
              " 'goat': 0.005494824282227851,\n",
              " 'forneret': 0.005494824282227851,\n",
              " 'tat': 0.005494824282227851,\n",
              " 'chalet': 0.005494824282227851,\n",
              " 'a9': 0.005494824282227851,\n",
              " 'takeov': 0.005494824282227851,\n",
              " 'xma': 0.005494824282227851,\n",
              " 'runescap': 0.005494824282227851,\n",
              " 'burst': 0.005494824282227851,\n",
              " '😧': 0.005494824282227851,\n",
              " 'promis': 0.005494824282227851,\n",
              " '346': 0.005494824282227851,\n",
              " 'hallyu': 0.005494824282227851,\n",
              " 'rajnigandha': 0.005494824282227851,\n",
              " 'harana': 0.005494824282227851,\n",
              " 'mwa': 0.005494824282227851,\n",
              " '33': 0.005494824282227851,\n",
              " 'dear': 0.005494824282227851,\n",
              " 'engag': 0.005494824282227851,\n",
              " 'would': 0.005494824282227851,\n",
              " 'monica': 0.005494824282227851,\n",
              " 'oley': 0.005494824282227851,\n",
              " 'b': 0.005494824282227851,\n",
              " 'teamjanuaryclaim': 0.005494824282227851,\n",
              " 'eid': 0.005494824282227851,\n",
              " 'govern': 0.005494824282227851,\n",
              " 'servic': 0.005494824282227851,\n",
              " 'sudden': 0.005494824282227851,\n",
              " 'nuclear': 0.005494824282227851,\n",
              " 'skeem': 0.005494824282227851,\n",
              " '🚂': 0.005494824282227851,\n",
              " 'air': 0.005494824282227851,\n",
              " 'estat': 0.005494824282227851,\n",
              " 'kebab': 0.005494824282227851,\n",
              " 'sane': 0.005494824282227851,\n",
              " 'ouat': 0.005494824282227851,\n",
              " '320': 0.005494824282227851,\n",
              " 'feytyaz': 0.005494824282227851,\n",
              " 'leadership': 0.005494824282227851,\n",
              " 'triangl': 0.005494824282227851,\n",
              " '┗': 0.005494824282227851,\n",
              " \"barrista'\": 0.005494824282227851,\n",
              " 'tote': 0.005494824282227851,\n",
              " 'credit': 0.005494824282227851,\n",
              " 'ninasti': 0.005494824282227851,\n",
              " 'appropri': 0.005494824282227851,\n",
              " 'toll': 0.005494824282227851,\n",
              " 'bi-polar': 0.005494824282227851,\n",
              " 'ghost': 0.005494824282227851,\n",
              " 'himseek': 0.005494824282227851,\n",
              " 'vacat': 0.005494824282227851,\n",
              " 'also': 0.005494824282227851,\n",
              " 'harder': 0.005494824282227851,\n",
              " 'order': 0.005494824282227851,\n",
              " 'hopkin': 0.005494824282227851,\n",
              " 'pressreleas': 0.005494824282227851,\n",
              " 'selfish': 0.005494824282227851,\n",
              " 'bell': 0.005494824282227851,\n",
              " 'hug': 0.005494824282227851,\n",
              " 'ohaha': 0.005494824282227851,\n",
              " 'combat': 0.005494824282227851,\n",
              " '221b': 0.005494824282227851,\n",
              " 'taylor': 0.005494824282227851,\n",
              " 'hot': 0.005494824282227851,\n",
              " 'escap': 0.005494824282227851,\n",
              " 'leak': 0.005494824282227851,\n",
              " 'dev': 0.005494824282227851,\n",
              " 'sialan': 0.005494824282227851,\n",
              " 'weltum': 0.005494824282227851,\n",
              " 'jlover': 0.005494824282227851,\n",
              " 'mhhh': 0.005494824282227851,\n",
              " 'inch': 0.005494824282227851,\n",
              " 'cell': 0.005494824282227851,\n",
              " 'itna': 0.005494824282227851,\n",
              " 'knive': 0.005494824282227851,\n",
              " 'possibl': 0.005494824282227851,\n",
              " 'canopi': 0.005494824282227851,\n",
              " 'tearout': 0.005494824282227851,\n",
              " 'repres': 0.005494824282227851,\n",
              " 'bahay': 0.005494824282227851,\n",
              " 'parkshar': 0.005494824282227851,\n",
              " 'tumour': 0.005494824282227851,\n",
              " '454': 0.005494824282227851,\n",
              " 'dazzl': 0.005494824282227851,\n",
              " 'bush': 0.005494824282227851,\n",
              " 'thusi': 0.005494824282227851,\n",
              " 'gurli': 0.005494824282227851,\n",
              " 'etdi': 0.005494824282227851,\n",
              " 'jilla': 0.005494824282227851,\n",
              " 'pussycat': 0.005494824282227851,\n",
              " 'action': 0.005494824282227851,\n",
              " 'avril': 0.005494824282227851,\n",
              " 'gidi': 0.005494824282227851,\n",
              " 'kiksex': 0.005494824282227851,\n",
              " 'kikm': 0.005494824282227851,\n",
              " '3wk': 0.005494824282227851,\n",
              " 'explos': 0.005494824282227851,\n",
              " 'hrryok': 0.005494824282227851,\n",
              " 'fna': 0.005494824282227851,\n",
              " 'jumpgiant': 0.005494824282227851,\n",
              " 'christ': 0.005494824282227851,\n",
              " 'lolipop': 0.005494824282227851,\n",
              " 'falco': 0.005494824282227851,\n",
              " 'robe': 0.005494824282227851,\n",
              " 'glaze': 0.005494824282227851,\n",
              " 'exclus': 0.005494824282227851,\n",
              " '14518344': 0.005494824282227851,\n",
              " 'in-app': 0.005494824282227851,\n",
              " 'okay': 0.005494824282227851,\n",
              " 'trainer': 0.005494824282227851,\n",
              " 'londondairi': 0.005494824282227851,\n",
              " '13.99': 0.005494824282227851,\n",
              " 'neat-o': 0.005494824282227851,\n",
              " 'ladyposs': 0.005494824282227851,\n",
              " '2emt': 0.005494824282227851,\n",
              " 'score': 0.005494824282227851,\n",
              " 'pa': 0.005494824282227851,\n",
              " 'talk': 0.005494824282227851,\n",
              " '💛': 0.005494824282227851,\n",
              " 'hologram': 0.005494824282227851,\n",
              " 'yelaaa': 0.005494824282227851,\n",
              " 'nex': 0.005494824282227851,\n",
              " 'pabebegirl': 0.005494824282227851,\n",
              " 'sexchat': 0.005494824282227851,\n",
              " 'jolli': 0.005494824282227851,\n",
              " 'untruth': 0.005494824282227851,\n",
              " 'queri': 0.005494824282227851,\n",
              " 'ugh': 0.005494824282227851,\n",
              " 'weekli': 0.005494824282227851,\n",
              " 'wwat': 0.005494824282227851,\n",
              " '🍹': 0.005494824282227851,\n",
              " 'civil': 0.005494824282227851,\n",
              " '15': 0.005494824282227851,\n",
              " 'nutella': 0.005494824282227851,\n",
              " 'board': 0.005494824282227851,\n",
              " 'trop': 0.005494824282227851,\n",
              " 'ilysm': 0.005494824282227851,\n",
              " 'care': 0.005494824282227851,\n",
              " 'fm': 0.005494824282227851,\n",
              " 'debt': 0.005494824282227851,\n",
              " 'cr': 0.005494824282227851,\n",
              " 'ridden': 0.005494824282227851,\n",
              " 'gestur': 0.005494824282227851,\n",
              " 'throwbackfriday': 0.005494824282227851,\n",
              " 'x42': 0.005494824282227851,\n",
              " 'mastership': 0.005494824282227851,\n",
              " 'tengkuaaronshah': 0.005494824282227851,\n",
              " 'awesomee': 0.005494824282227851,\n",
              " 'dreamteam': 0.005494824282227851,\n",
              " 'store': 0.005494824282227851,\n",
              " 'usernam': 0.005494824282227851,\n",
              " 'pesaro': 0.005494824282227851,\n",
              " 'askurban': 0.005494824282227851,\n",
              " 'insecur': 0.005494824282227851,\n",
              " 'nowday': 0.005494824282227851,\n",
              " '10-20': 0.005494824282227851,\n",
              " 'gayl': 0.005494824282227851,\n",
              " 'sheriff': 0.005494824282227851,\n",
              " 'ubud': 0.005494824282227851,\n",
              " 'har': 0.005494824282227851,\n",
              " 'java': 0.005494824282227851,\n",
              " 'softbal': 0.005494824282227851,\n",
              " 'israel': 0.005494824282227851,\n",
              " 'transcript': 0.005494824282227851,\n",
              " 'handsom': 0.005494824282227851,\n",
              " 'amber': 0.005494824282227851,\n",
              " 'stackar': 0.005494824282227851,\n",
              " 'incompleta': 0.005494824282227851,\n",
              " 'histori': 0.005494824282227851,\n",
              " 'wew': 0.005494824282227851,\n",
              " '9muse': 0.005494824282227851,\n",
              " \"spot'\": 0.005494824282227851,\n",
              " 'snit': 0.005494824282227851,\n",
              " 'confirm': 0.005494824282227851,\n",
              " 'aldub': 0.005494824282227851,\n",
              " 'reader': 0.005494824282227851,\n",
              " 'hahahay': 0.005494824282227851,\n",
              " 'appeas': 0.005494824282227851,\n",
              " 'fandom': 0.005494824282227851,\n",
              " 'bish': 0.005494824282227851,\n",
              " 'stock': 0.005494824282227851,\n",
              " 'babyyi': 0.005494824282227851,\n",
              " 'hbdme': 0.005494824282227851,\n",
              " 'newbethvideo': 0.005494824282227851,\n",
              " 'ekta': 0.005494824282227851,\n",
              " 'akooo': 0.005494824282227851,\n",
              " 'vsco': 0.005494824282227851,\n",
              " 'larri': 0.005494824282227851,\n",
              " 'uk': 0.005494824282227851,\n",
              " 'queen': 0.005494824282227851,\n",
              " 'wub': 0.005494824282227851,\n",
              " 'evan': 0.005494824282227851,\n",
              " 'elit': 0.005494824282227851,\n",
              " 'newyork': 0.005494824282227851,\n",
              " 'coat': 0.005494824282227851,\n",
              " 'wifi': 0.005494824282227851,\n",
              " 'mz': 0.005494824282227851,\n",
              " 'lucki': 0.005494824282227851,\n",
              " 'special': 0.005494824282227851,\n",
              " 'tool': 0.005494824282227851,\n",
              " '♬': 0.005494824282227851,\n",
              " 'yael': 0.005494824282227851,\n",
              " '6:01': 0.005494824282227851,\n",
              " 'wesen': 0.005494824282227851,\n",
              " 'chswiyfxcskcalum': 0.005494824282227851,\n",
              " 'petra': 0.005494824282227851,\n",
              " \"that'\": 0.005494824282227851,\n",
              " 'chill': 0.005494824282227851,\n",
              " 'septemb': 0.005494824282227851,\n",
              " 'repeatedli': 0.005494824282227851,\n",
              " ...}"
            ]
          },
          "metadata": {
            "tags": []
          },
          "execution_count": 21
        }
      ]
    },
    {
      "cell_type": "code",
      "metadata": {
        "id": "lgNQKES-80su"
      },
      "source": [
        "# UNQ_C2 (UNIQUE CELL IDENTIFIER, DO NOT EDIT)\n",
        "def train_naive_bayes(freqs, train_x, train_y):\n",
        "    '''\n",
        "    Input:\n",
        "        freqs: dictionary from (word, label) to how often the word appears\n",
        "        train_x: a list of tweets\n",
        "        train_y: a list of labels correponding to the tweets (0,1)\n",
        "    Output:\n",
        "        logprior: the log prior. (equation 3 above)\n",
        "        loglikelihood: the log likelihood of you Naive bayes equation. (equation 6 above)\n",
        "    '''\n",
        "    loglikelihood = {}\n",
        "    logprior = 0\n",
        "\n",
        "    ### START CODE HERE (REPLACE INSTANCES OF 'None' with your code) ###\n",
        "\n",
        "    # calculate V, the number of unique words in the vocabulary\n",
        "    vocab = set(word for word, _ in freqs) \n",
        "    V= len(vocab)\n",
        "\n",
        "    # calculate N_pos and N_neg\n",
        "    NEGATIVE = 0\n",
        "    POSITIVE = 1\n",
        "    N_pos = N_neg = 0\n",
        "    for word, sentiment in freqs:\n",
        "        freq = freqs[(word, sentiment)]\n",
        "        # if the label is positive (greater than zero)\n",
        "        if sentiment == POSITIVE:\n",
        "            # Increment the number of positive words by the count for this (word, label) pair\n",
        "            N_pos += freq\n",
        "\n",
        "        # else, the label is negative\n",
        "        else:\n",
        "\n",
        "            # increment the number of negative words by the count for this (word,label) pair\n",
        "            N_neg += freq\n",
        "\n",
        "    # Calculate D, the number of documents\n",
        "    D = len(train_y)\n",
        "\n",
        "    # Calculate D_pos, the number of positive documents (*hint: use sum(<np_array>))\n",
        "    D_pos = sum(train_y)\n",
        "\n",
        "    # Calculate D_neg, the number of negative documents (*hint: compute using D and D_pos)\n",
        "    D_neg = D - D_pos\n",
        "\n",
        "    # Calculate logprior\n",
        "    logprior = np.log(D_pos) - np.log(D_neg)\n",
        "\n",
        "    # For each word in the vocabulary...\n",
        "    for word in vocab:\n",
        "        # get the positive and negative frequency of the word\n",
        "        freq_pos = lookup(freqs, word, POSITIVE)\n",
        "        freq_neg = lookup(freqs, word, NEGATIVE)\n",
        "\n",
        "        # calculate the probability that each word is positive, and negative\n",
        "        p_w_pos = (freq_pos + 1) / (N_pos + V)\n",
        "        p_w_neg = (freq_neg + 1) / (N_neg + V)\n",
        "\n",
        "        # calculate the log likelihood of the word\n",
        "        loglikelihood[word] = np.log(p_w_pos / p_w_neg)\n",
        "\n",
        "    ### END CODE HERE ###\n",
        "\n",
        "    return logprior, loglikelihood"
      ],
      "execution_count": 22,
      "outputs": []
    },
    {
      "cell_type": "code",
      "metadata": {
        "id": "lua1dAcm80zo",
        "outputId": "f9702732-1b7e-4b10-dfed-ca36212cb216",
        "colab": {
          "base_uri": "https://localhost:8080/"
        }
      },
      "source": [
        "# UNQ_C3 (UNIQUE CELL IDENTIFIER, DO NOT EDIT)\n",
        "# You do not have to input any code in this cell, but it is relevant to grading, so please do not change anything\n",
        "logprior, loglikelihood = train_naive_bayes(freqs, train_x, train_y)\n",
        "print(logprior)\n",
        "print(len(loglikelihood))"
      ],
      "execution_count": 23,
      "outputs": [
        {
          "output_type": "stream",
          "text": [
            "0.0\n",
            "3\n"
          ],
          "name": "stdout"
        }
      ]
    },
    {
      "cell_type": "code",
      "metadata": {
        "id": "nCae_FFj805b"
      },
      "source": [
        ""
      ],
      "execution_count": null,
      "outputs": []
    },
    {
      "cell_type": "code",
      "metadata": {
        "id": "qciaRQcK80-8"
      },
      "source": [
        ""
      ],
      "execution_count": null,
      "outputs": []
    },
    {
      "cell_type": "code",
      "metadata": {
        "id": "24281Ng281Bg"
      },
      "source": [
        ""
      ],
      "execution_count": null,
      "outputs": []
    },
    {
      "cell_type": "code",
      "metadata": {
        "id": "4NaALc70808V"
      },
      "source": [
        ""
      ],
      "execution_count": null,
      "outputs": []
    },
    {
      "cell_type": "code",
      "metadata": {
        "id": "e41FPiOc802h"
      },
      "source": [
        ""
      ],
      "execution_count": null,
      "outputs": []
    },
    {
      "cell_type": "code",
      "metadata": {
        "id": "3vNGQ-Sh80wa"
      },
      "source": [
        ""
      ],
      "execution_count": null,
      "outputs": []
    },
    {
      "cell_type": "code",
      "metadata": {
        "id": "11yUq5KT80qI"
      },
      "source": [
        ""
      ],
      "execution_count": null,
      "outputs": []
    },
    {
      "cell_type": "code",
      "metadata": {
        "id": "D-sJWnmo80kj"
      },
      "source": [
        ""
      ],
      "execution_count": null,
      "outputs": []
    }
  ]
}