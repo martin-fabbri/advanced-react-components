{
  "nbformat": 4,
  "nbformat_minor": 0,
  "metadata": {
    "colab": {
      "name": "colab-rapids-umap-02.ipynb",
      "version": "0.3.2",
      "provenance": [],
      "collapsed_sections": [],
      "include_colab_link": true
    },
    "kernelspec": {
      "name": "python3",
      "display_name": "Python 3"
    },
    "accelerator": "GPU"
  },
  "cells": [
    {
      "cell_type": "markdown",
      "metadata": {
        "id": "view-in-github",
        "colab_type": "text"
      },
      "source": [
        "<a href=\"https://colab.research.google.com/github/martin-fabbri/advanced-react-components/blob/master/colab_rapids_umap_02.ipynb\" target=\"_parent\"><img src=\"https://colab.research.google.com/assets/colab-badge.svg\" alt=\"Open In Colab\"/></a>"
      ]
    },
    {
      "cell_type": "markdown",
      "metadata": {
        "id": "UwUGgedZa82u",
        "colab_type": "text"
      },
      "source": [
        "# Uniform Manifold Approximation and Projection (UMAP)"
      ]
    },
    {
      "cell_type": "markdown",
      "metadata": {
        "id": "scfLT2i0MLyD",
        "colab_type": "text"
      },
      "source": [
        "### Validate GPU requirements"
      ]
    },
    {
      "cell_type": "code",
      "metadata": {
        "id": "B0C8IV5TQnjN",
        "colab_type": "code",
        "outputId": "a5dd9289-350e-4759-cff8-062587261dcc",
        "colab": {
          "base_uri": "https://localhost:8080/",
          "height": 319
        }
      },
      "source": [
        "!nvidia-smi"
      ],
      "execution_count": 0,
      "outputs": [
        {
          "output_type": "stream",
          "text": [
            "Thu Sep 12 16:57:01 2019       \n",
            "+-----------------------------------------------------------------------------+\n",
            "| NVIDIA-SMI 430.40       Driver Version: 418.67       CUDA Version: 10.1     |\n",
            "|-------------------------------+----------------------+----------------------+\n",
            "| GPU  Name        Persistence-M| Bus-Id        Disp.A | Volatile Uncorr. ECC |\n",
            "| Fan  Temp  Perf  Pwr:Usage/Cap|         Memory-Usage | GPU-Util  Compute M. |\n",
            "|===============================+======================+======================|\n",
            "|   0  Tesla T4            Off  | 00000000:00:04.0 Off |                    0 |\n",
            "| N/A   73C    P0    32W /  70W |      0MiB / 15079MiB |      0%      Default |\n",
            "+-------------------------------+----------------------+----------------------+\n",
            "                                                                               \n",
            "+-----------------------------------------------------------------------------+\n",
            "| Processes:                                                       GPU Memory |\n",
            "|  GPU       PID   Type   Process name                             Usage      |\n",
            "|=============================================================================|\n",
            "|  No running processes found                                                 |\n",
            "+-----------------------------------------------------------------------------+\n"
          ],
          "name": "stdout"
        }
      ]
    },
    {
      "cell_type": "code",
      "metadata": {
        "id": "ik8Wv2K0uDfx",
        "colab_type": "code",
        "outputId": "c1965cb7-54ce-4312-9832-bbbf7f6495a9",
        "colab": {
          "base_uri": "https://localhost:8080/",
          "height": 52
        }
      },
      "source": [
        "import pynvml\n",
        "\n",
        "pynvml.nvmlInit()\n",
        "handle = pynvml.nvmlDeviceGetHandleByIndex(0)\n",
        "device_name = pynvml.nvmlDeviceGetName(handle)\n",
        "\n",
        "if device_name != b'Tesla T4':\n",
        "  raise Exception(\"\"\"\n",
        "    Unfortunately this instance does not have a T4 GPU.\n",
        "    \n",
        "    Please make sure you've configured Colab to request a GPU instance type.\n",
        "    \n",
        "    Sometimes Colab allocates a Tesla K80 instead of a T4. Resetting the instance.\n",
        "\n",
        "    If you get a K80 GPU, try Runtime -> Reset all runtimes...\n",
        "  \"\"\")\n",
        "else:\n",
        "  print('Woo! You got the right kind of GPU!')\n",
        "  print(device_name)"
      ],
      "execution_count": 0,
      "outputs": [
        {
          "output_type": "stream",
          "text": [
            "Woo! You got the right kind of GPU!\n",
            "b'Tesla T4'\n"
          ],
          "name": "stdout"
        }
      ]
    },
    {
      "cell_type": "markdown",
      "metadata": {
        "id": "CtNdk7PSafKP",
        "colab_type": "text"
      },
      "source": [
        "#Setup:\n",
        "\n",
        "1. Install most recent Miniconda release compatible with Google Colab's Python install  (3.6.7)\n",
        "2. Install RAPIDS libraries\n",
        "3. Set necessary environment variables\n",
        "4. Copy RAPIDS .so files into current working directory, a workaround for conda/colab interactions"
      ]
    },
    {
      "cell_type": "code",
      "metadata": {
        "id": "m0jdXBRiDSzj",
        "colab_type": "code",
        "outputId": "160a3c8f-1f5d-48ae-a286-e4a9b6ed1aac",
        "colab": {
          "base_uri": "https://localhost:8080/",
          "height": 1000
        }
      },
      "source": [
        "# intall miniconda\n",
        "!wget -c https://repo.continuum.io/miniconda/Miniconda3-4.5.4-Linux-x86_64.sh\n",
        "!chmod +x Miniconda3-4.5.4-Linux-x86_64.sh\n",
        "!bash ./Miniconda3-4.5.4-Linux-x86_64.sh -b -f -p /usr/local\n",
        "\n",
        "# install RAPIDS packages\n",
        "!conda install -q -y --prefix /usr/local -c conda-forge \\\n",
        "  -c rapidsai-nightly/label/cuda10.0 -c nvidia/label/cuda10.0 \\\n",
        "  cudf cuml\n",
        "\n",
        "# set environment vars\n",
        "import sys, os, shutil\n",
        "sys.path.append('/usr/local/lib/python3.6/site-packages/')\n",
        "os.environ['NUMBAPRO_NVVM'] = '/usr/local/cuda/nvvm/lib64/libnvvm.so'\n",
        "os.environ['NUMBAPRO_LIBDEVICE'] = '/usr/local/cuda/nvvm/libdevice/'\n",
        "\n",
        "# copy .so files to current working dir\n",
        "for fn in ['libcudf.so', 'librmm.so']:\n",
        "  shutil.copy('/usr/local/lib/'+fn, os.getcwd())"
      ],
      "execution_count": 0,
      "outputs": [
        {
          "output_type": "stream",
          "text": [
            "--2019-09-12 17:10:57--  https://repo.continuum.io/miniconda/Miniconda3-4.5.4-Linux-x86_64.sh\n",
            "Resolving repo.continuum.io (repo.continuum.io)... 104.18.200.79, 104.18.201.79, 2606:4700::6812:c84f, ...\n",
            "Connecting to repo.continuum.io (repo.continuum.io)|104.18.200.79|:443... connected.\n",
            "HTTP request sent, awaiting response... 416 Requested Range Not Satisfiable\n",
            "\n",
            "    The file is already fully retrieved; nothing to do.\n",
            "\n",
            "PREFIX=/usr/local\n",
            "installing: python-3.6.5-hc3d631a_2 ...\n",
            "Python 3.6.5 :: Anaconda, Inc.\n",
            "installing: ca-certificates-2018.03.07-0 ...\n",
            "installing: conda-env-2.6.0-h36134e3_1 ...\n",
            "installing: libgcc-ng-7.2.0-hdf63c60_3 ...\n",
            "installing: libstdcxx-ng-7.2.0-hdf63c60_3 ...\n",
            "installing: libffi-3.2.1-hd88cf55_4 ...\n",
            "installing: ncurses-6.1-hf484d3e_0 ...\n",
            "installing: openssl-1.0.2o-h20670df_0 ...\n",
            "installing: tk-8.6.7-hc745277_3 ...\n",
            "installing: xz-5.2.4-h14c3975_4 ...\n",
            "installing: yaml-0.1.7-had09818_2 ...\n",
            "installing: zlib-1.2.11-ha838bed_2 ...\n",
            "installing: libedit-3.1.20170329-h6b74fdf_2 ...\n",
            "installing: readline-7.0-ha6073c6_4 ...\n",
            "installing: sqlite-3.23.1-he433501_0 ...\n",
            "installing: asn1crypto-0.24.0-py36_0 ...\n",
            "installing: certifi-2018.4.16-py36_0 ...\n",
            "installing: chardet-3.0.4-py36h0f667ec_1 ...\n",
            "installing: idna-2.6-py36h82fb2a8_1 ...\n",
            "installing: pycosat-0.6.3-py36h0a5515d_0 ...\n",
            "installing: pycparser-2.18-py36hf9f622e_1 ...\n",
            "installing: pysocks-1.6.8-py36_0 ...\n",
            "installing: ruamel_yaml-0.15.37-py36h14c3975_2 ...\n",
            "installing: six-1.11.0-py36h372c433_1 ...\n",
            "installing: cffi-1.11.5-py36h9745a5d_0 ...\n",
            "installing: setuptools-39.2.0-py36_0 ...\n",
            "installing: cryptography-2.2.2-py36h14c3975_0 ...\n",
            "installing: wheel-0.31.1-py36_0 ...\n",
            "installing: pip-10.0.1-py36_0 ...\n",
            "installing: pyopenssl-18.0.0-py36_0 ...\n",
            "installing: urllib3-1.22-py36hbe7ace6_0 ...\n",
            "installing: requests-2.18.4-py36he2e5f8d_1 ...\n",
            "installing: conda-4.5.4-py36_0 ...\n",
            "unlinking: ca-certificates-2019.9.11-hecc5488_0\n",
            "unlinking: certifi-2019.9.11-py37_0\n",
            "unlinking: cffi-1.12.3-py37h8022711_0\n",
            "unlinking: libffi-3.2.1-he1b5a44_1006\n",
            "unlinking: libgcc-ng-9.1.0-hdf63c60_0\n",
            "unlinking: libstdcxx-ng-9.1.0-hdf63c60_0\n",
            "unlinking: ncurses-6.1-hf484d3e_1002\n",
            "unlinking: openssl-1.1.1c-h516909a_0\n",
            "unlinking: pip-19.2.3-py37_0\n",
            "unlinking: pycparser-2.19-py37_1\n",
            "unlinking: python-3.7.3-h33d41f4_1\n",
            "unlinking: readline-8.0-hf8c457e_0\n",
            "unlinking: setuptools-41.2.0-py37_0\n",
            "unlinking: six-1.12.0-py37_1000\n",
            "unlinking: sqlite-3.29.0-hcee41ef_1\n",
            "unlinking: tk-8.6.9-hed695b0_1003\n",
            "unlinking: wheel-0.33.6-py37_0\n",
            "unlinking: xz-5.2.4-h14c3975_1001\n",
            "unlinking: zlib-1.2.11-h516909a_1006\n",
            "installation finished.\n",
            "WARNING:\n",
            "    You currently have a PYTHONPATH environment variable set. This may cause\n",
            "    unexpected behavior when running the Python interpreter in Miniconda3.\n",
            "    For best results, please verify that your PYTHONPATH only points to\n",
            "    directories of packages that are compatible with the Python interpreter\n",
            "    in Miniconda3: /usr/local\n",
            "Solving environment: ...working... done\n",
            "\n",
            "## Package Plan ##\n",
            "\n",
            "  environment location: /usr/local\n",
            "\n",
            "  added / updated specs: \n",
            "    - cudf\n",
            "    - cuml\n",
            "\n",
            "\n",
            "The following packages will be downloaded:\n",
            "\n",
            "    package                    |            build\n",
            "    ---------------------------|-----------------\n",
            "    nvstrings-0.9.0a1          |          py36_68         124 KB  rapidsai-nightly/label/cuda10.0\n",
            "    pyarrow-0.14.1             |   py36h8b68381_0         2.8 MB  conda-forge\n",
            "    python-libarchive-c-2.8    |        py36_1004          21 KB  conda-forge\n",
            "    arrow-cpp-0.14.1           |   py36h6b969ab_1        17.3 MB  conda-forge\n",
            "    conda-package-handling-1.4.1|           py36_0         262 KB  conda-forge\n",
            "    cryptography-2.7           |   py36h72c5cf5_0         607 KB  conda-forge\n",
            "    cython-0.29.13             |   py36he1b5a44_0         2.2 MB  conda-forge\n",
            "    certifi-2019.9.11          |           py36_0         147 KB  conda-forge\n",
            "    sqlite-3.28.0              |       h8b20d00_0         1.9 MB  conda-forge\n",
            "    python-3.6.7               |    h381d211_1004        34.5 MB  conda-forge\n",
            "    rmm-0.9.0a1                |          py36_18          14 KB  rapidsai-nightly/label/cuda10.0\n",
            "    tqdm-4.35.0                |             py_0          42 KB  conda-forge\n",
            "    pandas-0.24.2              |   py36hb3f55d8_0        11.1 MB  conda-forge\n",
            "    conda-4.7.11               |           py36_0         3.0 MB  conda-forge\n",
            "    cuml-0.9.0a1               |cuda10.0_py36_893         5.3 MB  rapidsai-nightly/label/cuda10.0\n",
            "    numpy-1.17.2               |   py36h95a1406_0         5.2 MB  conda-forge\n",
            "    libxml2-2.9.9              |       hee79883_5         1.3 MB  conda-forge\n",
            "    llvmlite-0.29.0            |   py36hfd453ef_1        19.9 MB  conda-forge\n",
            "    fastavro-0.22.4            |   py36h516909a_0         405 KB  conda-forge\n",
            "    cudf-0.9.0a                |        py36_2790         4.8 MB  rapidsai-nightly/label/cuda10.0\n",
            "    lzo-2.10                   |    h14c3975_1000         319 KB  conda-forge\n",
            "    libiconv-1.15              |    h516909a_1005         2.0 MB  conda-forge\n",
            "    numba-0.45.1               |   py36hb3f55d8_0         3.1 MB  conda-forge\n",
            "    libarchive-3.3.3           |    hb44662c_1005         1.4 MB  conda-forge\n",
            "    ------------------------------------------------------------\n",
            "                                           Total:       117.9 MB\n",
            "\n",
            "The following NEW packages will be INSTALLED:\n",
            "\n",
            "    conda-package-handling: 1.4.1-py36_0              conda-forge                    \n",
            "    libarchive:             3.3.3-hb44662c_1005       conda-forge                    \n",
            "    libiconv:               1.15-h516909a_1005        conda-forge                    \n",
            "    libxml2:                2.9.9-hee79883_5          conda-forge                    \n",
            "    lzo:                    2.10-h14c3975_1000        conda-forge                    \n",
            "    python-libarchive-c:    2.8-py36_1004             conda-forge                    \n",
            "    tqdm:                   4.35.0-py_0               conda-forge                    \n",
            "\n",
            "The following packages will be UPDATED:\n",
            "\n",
            "    arrow-cpp:              0.14.1-py37h6b969ab_1     conda-forge                     --> 0.14.1-py36h6b969ab_1     conda-forge                    \n",
            "    ca-certificates:        2018.03.07-0                                              --> 2019.9.11-hecc5488_0      conda-forge                    \n",
            "    certifi:                2018.4.16-py36_0                                          --> 2019.9.11-py36_0          conda-forge                    \n",
            "    conda:                  4.5.4-py36_0                                              --> 4.7.11-py36_0             conda-forge                    \n",
            "    cryptography:           2.2.2-py36h14c3975_0                                      --> 2.7-py36h72c5cf5_0        conda-forge                    \n",
            "    cudf:                   0.9.0a-py37_2790          rapidsai-nightly/label/cuda10.0 --> 0.9.0a-py36_2790          rapidsai-nightly/label/cuda10.0\n",
            "    cuml:                   0.9.0a1-cuda10.0_py37_893 rapidsai-nightly/label/cuda10.0 --> 0.9.0a1-cuda10.0_py36_893 rapidsai-nightly/label/cuda10.0\n",
            "    cython:                 0.29.13-py37he1b5a44_0    conda-forge                     --> 0.29.13-py36he1b5a44_0    conda-forge                    \n",
            "    fastavro:               0.22.4-py37h516909a_0     conda-forge                     --> 0.22.4-py36h516909a_0     conda-forge                    \n",
            "    libgcc-ng:              7.2.0-hdf63c60_3                                          --> 9.1.0-hdf63c60_0                                         \n",
            "    libstdcxx-ng:           7.2.0-hdf63c60_3                                          --> 9.1.0-hdf63c60_0                                         \n",
            "    llvmlite:               0.29.0-py37hfd453ef_1     conda-forge                     --> 0.29.0-py36hfd453ef_1     conda-forge                    \n",
            "    numba:                  0.45.1-py37hb3f55d8_0     conda-forge                     --> 0.45.1-py36hb3f55d8_0     conda-forge                    \n",
            "    numpy:                  1.17.2-py37h95a1406_0     conda-forge                     --> 1.17.2-py36h95a1406_0     conda-forge                    \n",
            "    nvstrings:              0.9.0a1-py37_68           rapidsai-nightly/label/cuda10.0 --> 0.9.0a1-py36_68           rapidsai-nightly/label/cuda10.0\n",
            "    openssl:                1.0.2o-h20670df_0                                         --> 1.1.1c-h516909a_0         conda-forge                    \n",
            "    pandas:                 0.24.2-py37hb3f55d8_0     conda-forge                     --> 0.24.2-py36hb3f55d8_0     conda-forge                    \n",
            "    pyarrow:                0.14.1-py37h8b68381_0     conda-forge                     --> 0.14.1-py36h8b68381_0     conda-forge                    \n",
            "    python:                 3.6.5-hc3d631a_2                                          --> 3.6.7-h381d211_1004       conda-forge                    \n",
            "    rmm:                    0.9.0a1-py37_18           rapidsai-nightly/label/cuda10.0 --> 0.9.0a1-py36_18           rapidsai-nightly/label/cuda10.0\n",
            "    sqlite:                 3.23.1-he433501_0                                         --> 3.28.0-h8b20d00_0         conda-forge                    \n",
            "    tk:                     8.6.7-hc745277_3                                          --> 8.6.9-hed695b0_1003       conda-forge                    \n",
            "\n",
            "Preparing transaction: ...working... done\n",
            "Verifying transaction: ...working... done\n",
            "Executing transaction: ...working... done\n"
          ],
          "name": "stdout"
        }
      ]
    },
    {
      "cell_type": "markdown",
      "metadata": {
        "id": "9oOCJ4NYMjY7",
        "colab_type": "text"
      },
      "source": [
        "### Imports\n"
      ]
    },
    {
      "cell_type": "code",
      "metadata": {
        "id": "ZllhJVCgcdII",
        "colab_type": "code",
        "outputId": "49a091f8-b3b0-40e9-bf8f-260e65093f99",
        "colab": {
          "base_uri": "https://localhost:8080/",
          "height": 88
        }
      },
      "source": [
        "import numpy as np\n",
        "import pandas as pd\n",
        "\n",
        "import cudf\n",
        "import os\n",
        "\n",
        "import sklearn\n",
        "\n",
        "from sklearn import datasets\n",
        "from sklearn.metrics import adjusted_rand_score\n",
        "from sklearn.cluster import KMeans\n",
        "from sklearn.manifold.t_sne import trustworthiness\n",
        "\n",
        "from cuml.manifold.umap import UMAP\n",
        "\n",
        "print('Numpy:', np.__version__)\n",
        "print('Pandas:', pd.__version__)\n",
        "print('Scikit-Learn:', sklearn.__version__)\n",
        "print('cuDF:', cudf.__version__)\n"
      ],
      "execution_count": 0,
      "outputs": [
        {
          "output_type": "stream",
          "text": [
            "Numpy: 1.16.5\n",
            "Pandas: 0.24.2\n",
            "Scikit-Learn: 0.21.3\n",
            "cuDF: 0.9.0a+2790.gd9be5f1.dirty\n"
          ],
          "name": "stdout"
        }
      ]
    },
    {
      "cell_type": "markdown",
      "metadata": {
        "id": "V38dg-oUJtEO",
        "colab_type": "text"
      },
      "source": [
        "### Running cuml's UMAP model on blobs dataset"
      ]
    },
    {
      "cell_type": "code",
      "metadata": {
        "id": "EwaJSKuswsNi",
        "colab_type": "code",
        "colab": {}
      },
      "source": [
        "# create a blobs dataset with 500 samples and 10 features each\n",
        "data, labels = datasets.make_blobs(n_samples=500, n_features=10, centers=5)"
      ],
      "execution_count": 0,
      "outputs": []
    },
    {
      "cell_type": "code",
      "metadata": {
        "id": "f7pjFcPEmnDB",
        "colab_type": "code",
        "outputId": "ce0e3f97-3196-4edc-d197-1dbfb4fff02c",
        "colab": {
          "base_uri": "https://localhost:8080/",
          "height": 126
        }
      },
      "source": [
        "# using the UMAP algorithm to reduce the feature of the dataset and store\n",
        "embedding = UMAP().fit_transform(data)\n",
        "print(embedding[:3])"
      ],
      "execution_count": 0,
      "outputs": [
        {
          "output_type": "stream",
          "text": [
            "/usr/local/lib/python3.6/dist-packages/ipykernel_launcher.py:1: UserWarning: Parameter should_downcast is deprecated, use convert_dtype in fit, fit_transform and transform  methods instead. \n",
            "  \"\"\"Entry point for launching an IPython kernel.\n"
          ],
          "name": "stderr"
        },
        {
          "output_type": "stream",
          "text": [
            "[[ 2.18635058 -2.71425438]\n",
            " [-5.73555088 -5.6121192 ]\n",
            " [ 1.92098868 -3.22935057]]\n"
          ],
          "name": "stdout"
        }
      ]
    },
    {
      "cell_type": "code",
      "metadata": {
        "id": "YlrR4js1mm2H",
        "colab_type": "code",
        "outputId": "64d7a405-494c-43cf-9f54-3b03a8c5c170",
        "colab": {
          "base_uri": "https://localhost:8080/",
          "height": 34
        }
      },
      "source": [
        "# calculate the score of the results obtained using cuml's algo and sklearn kmeans\n",
        "score = adjusted_rand_score(labels, KMeans(5).fit_predict(embedding))\n",
        "print(score)"
      ],
      "execution_count": 0,
      "outputs": [
        {
          "output_type": "stream",
          "text": [
            "1.0\n"
          ],
          "name": "stdout"
        }
      ]
    },
    {
      "cell_type": "markdown",
      "metadata": {
        "id": "bIUpHAeOvFE7",
        "colab_type": "text"
      },
      "source": [
        "### Running cuml's UMAP model on iris dataset"
      ]
    },
    {
      "cell_type": "code",
      "metadata": {
        "id": "V8XV7sVNvEhB",
        "colab_type": "code",
        "colab": {}
      },
      "source": [
        "iris = datasets.load_iris()\n",
        "data = iris.data"
      ],
      "execution_count": 0,
      "outputs": []
    },
    {
      "cell_type": "code",
      "metadata": {
        "id": "aHe_g5B2v4-X",
        "colab_type": "code",
        "outputId": "6264c5e2-9b84-4a03-b642-806ccbbfdf73",
        "colab": {
          "base_uri": "https://localhost:8080/",
          "height": 72
        }
      },
      "source": [
        "embedding = UMAP(n_neighbors=10, min_dist=0.01, init=\"random\").fit_transform(data)"
      ],
      "execution_count": 0,
      "outputs": [
        {
          "output_type": "stream",
          "text": [
            "/usr/local/lib/python3.6/dist-packages/ipykernel_launcher.py:1: UserWarning: Parameter should_downcast is deprecated, use convert_dtype in fit, fit_transform and transform  methods instead. \n",
            "  \"\"\"Entry point for launching an IPython kernel.\n"
          ],
          "name": "stderr"
        }
      ]
    },
    {
      "cell_type": "code",
      "metadata": {
        "id": "clCbad_owhYr",
        "colab_type": "code",
        "outputId": "105242f0-5031-45e3-8c14-7e31e4c5e003",
        "colab": {
          "base_uri": "https://localhost:8080/",
          "height": 34
        }
      },
      "source": [
        "# calculate the trust worthiness of the results obtained from the cuml UMAP\n",
        "trust = trustworthiness(iris.data, embedding, 10)\n",
        "trust"
      ],
      "execution_count": 0,
      "outputs": [
        {
          "output_type": "execute_result",
          "data": {
            "text/plain": [
              "0.9744188351920694"
            ]
          },
          "metadata": {
            "tags": []
          },
          "execution_count": 29
        }
      ]
    },
    {
      "cell_type": "code",
      "metadata": {
        "id": "YHEsL7iKxZmk",
        "colab_type": "code",
        "colab": {}
      },
      "source": [
        "# create a selection variable "
      ],
      "execution_count": 0,
      "outputs": []
    }
  ]
}