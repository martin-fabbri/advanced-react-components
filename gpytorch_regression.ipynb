{
  "nbformat": 4,
  "nbformat_minor": 0,
  "metadata": {
    "colab": {
      "name": "gpytorch-regression.ipynb",
      "provenance": [],
      "collapsed_sections": [],
      "include_colab_link": true
    },
    "kernelspec": {
      "name": "python3",
      "display_name": "Python 3"
    }
  },
  "cells": [
    {
      "cell_type": "markdown",
      "metadata": {
        "id": "view-in-github",
        "colab_type": "text"
      },
      "source": [
        "<a href=\"https://colab.research.google.com/github/martin-fabbri/advanced-react-components/blob/master/gpytorch_regression.ipynb\" target=\"_parent\"><img src=\"https://colab.research.google.com/assets/colab-badge.svg\" alt=\"Open In Colab\"/></a>"
      ]
    },
    {
      "cell_type": "markdown",
      "metadata": {
        "id": "UngR_0pwboG6",
        "colab_type": "text"
      },
      "source": [
        "# Gaussian Process Regression using GPyTorch"
      ]
    },
    {
      "cell_type": "markdown",
      "metadata": {
        "id": "y98arE-QbLCo",
        "colab_type": "text"
      },
      "source": [
        "## Dependencies"
      ]
    },
    {
      "cell_type": "code",
      "metadata": {
        "id": "IxkbqvwIbKvU",
        "colab_type": "code",
        "colab": {
          "base_uri": "https://localhost:8080/",
          "height": 34
        },
        "outputId": "64c6ad1c-eadc-4ffa-f036-bcff834dfcb6"
      },
      "source": [
        "!pip install gpytorch"
      ],
      "execution_count": 3,
      "outputs": [
        {
          "output_type": "stream",
          "text": [
            "Requirement already satisfied: gpytorch in /usr/local/lib/python3.6/dist-packages (1.0.0)\n"
          ],
          "name": "stdout"
        }
      ]
    },
    {
      "cell_type": "markdown",
      "metadata": {
        "id": "ybc6_AYVbKFq",
        "colab_type": "text"
      },
      "source": [
        "Function to model:\n",
        "\n",
        "\\begin{align}\n",
        "y &= \\sin(2\\pi x) + \\epsilon \\;\\; (1)\\\\\n",
        "  \\epsilon &\\sim \\mathcal{N}(0, 0.2) \\;\\; (2) \n",
        "\\end{align}\n",
        "\n",
        "with 100 training examples, and testing on 51 examples."
      ]
    },
    {
      "cell_type": "code",
      "metadata": {
        "id": "ADTDpMf_bB7U",
        "colab_type": "code",
        "colab": {}
      },
      "source": [
        "import math\n",
        "import torch\n",
        "import os\n",
        "import matplotlib.pyplot as plt\n",
        "\n",
        "from gpytorch.models import ExactGP\n",
        "from gpytorch.means import ConstantMean\n",
        "from gpytorch.kernels import ScaleKernel\n",
        "from gpytorch.kernels import RBFKernel\n",
        "from gpytorch.distributions import MultivariateNormal\n",
        "from gpytorch.likelihoods import GaussianLikelihood\n",
        "from gpytorch.mlls import ExactMarginalLogLikelihood\n",
        "from gpytorch.settings import fast_pred_var"
      ],
      "execution_count": 0,
      "outputs": []
    },
    {
      "cell_type": "markdown",
      "metadata": {
        "id": "U1P2EiiDiUYb",
        "colab_type": "text"
      },
      "source": [
        "## Setup training data"
      ]
    },
    {
      "cell_type": "code",
      "metadata": {
        "id": "5mTAMcLliUJ7",
        "colab_type": "code",
        "colab": {}
      },
      "source": [
        "# training data is 100 points in [0,1] regularly spaced\n",
        "train_x = torch.linspace(0, 1, 100)\n",
        "# True function is (1) with Gaussian noise (2)\n",
        "train_y = torch.sin(train_x * (2 * math.pi)) + torch.randn(train_x.size())"
      ],
      "execution_count": 0,
      "outputs": []
    },
    {
      "cell_type": "markdown",
      "metadata": {
        "id": "BQ-cFO5EjbtW",
        "colab_type": "text"
      },
      "source": [
        "## Setting up the model\n",
        "\n",
        "For most GP regression models, you will need to construct the following GPyTorch objects:\n",
        "\n",
        "1. A **GP Model** (`gpytorch.models.ExactGP`) -  This handles most of the inference.\n",
        "1. A **Likelihood** (`gpytorch.likelihoods.GaussianLikelihood`) - This is the most common likelihood used for GP regression.\n",
        "1. A **Mean** - This defines the prior mean of the GP.(If you don't know which mean to use, a `gpytorch.means.ConstantMean()` is a good place to start.)\n",
        "1. A **Kernel** - This defines the prior covariance of the GP.(If you don't know which kernel to use, a `gpytorch.kernels.ScaleKernel(gpytorch.kernels.RBFKernel())` is a good place to start).\n",
        "1. A **MultivariateNormal** Distribution (`gpytorch.distributions.MultivariateNormal`) - This is the object used to represent multivariate normal distributions.\n",
        "\n",
        "### The GP Model\n",
        "  \n",
        "The components of a user built (Exact, i.e. non-variational) GP model in GPyTorch are, broadly speaking:\n",
        "\n",
        "1. An `__init__` method that takes the training data and a likelihood, and constructs whatever objects are necessary for the model's `forward` method. This will most commonly include things like a mean module and a kernel module.\n",
        "\n",
        "2. A `forward` method that takes in some $n \\times d$ data `x` and returns a `MultivariateNormal` with the *prior* mean and covariance evaluated at `x`. In other words, we return the vector $\\mu(x)$ and the $n \\times n$ matrix $K_{xx}$ representing the prior mean and covariance matrix of the GP. \n",
        "\n",
        "This specification leaves a large amount of flexibility when defining a model. For example, to compose two kernels via addition, you can either add the kernel modules directly:\n",
        "\n",
        "```python\n",
        "self.covar_module = ScaleKernel(RBFKernel() + WhiteNoiseKernel())\n",
        "```\n",
        "\n",
        "Or you can add the outputs of the kernel in the forward method:\n",
        "\n",
        "```python\n",
        "covar_x = self.rbf_kernel_module(x) + self.white_noise_module(x)\n",
        "```\n"
      ]
    },
    {
      "cell_type": "code",
      "metadata": {
        "id": "aFqL4Z57iUG7",
        "colab_type": "code",
        "colab": {}
      },
      "source": [
        "class ExactGPModel(ExactGP):\n",
        "  def __init__(self, train_x, train_y, likelihood):\n",
        "    super(ExactGPModel, self).__init__(train_x, train_y, likelihood)\n",
        "    self.mean_module = ConstantMean()\n",
        "    self.covar_module = ScaleKernel(RBFKernel())\n",
        "\n",
        "  def forward(self, x):\n",
        "    mean_x = self.mean_module(x)\n",
        "    covar_x = self.covar_module(x)\n",
        "    return MultivariateNormal(mean_x, covar_x)\n",
        "\n",
        "# initialize likelyhood and model\n",
        "likelihood = GaussianLikelihood()\n",
        "model = ExactGPModel(train_x, train_y, likelihood)"
      ],
      "execution_count": 0,
      "outputs": []
    },
    {
      "cell_type": "markdown",
      "metadata": {
        "id": "6cUYxqbkn9zQ",
        "colab_type": "text"
      },
      "source": [
        "### Training the model\n",
        "\n",
        "The most obvious difference here compared to many other GP implementations is that, as in standard PyTorch, the core training loop is written by the user. In GPyTorch, we make use of the standard PyTorch optimizers as from `torch.optim`, and all trainable parameters of the model should be of type `torch.nn.Parameter`. Because GP models directly extend `torch.nn.Module`, calls to methods like `model.parameters()` or `model.named_parameters()` function as you might expect coming from PyTorch.\n",
        "\n",
        "In most cases, the boilerplate code below will work well. It has the same basic components as the standard PyTorch training loop:\n",
        "\n",
        "1. Zero all parameter gradients\n",
        "2. Call the model and compute the loss\n",
        "3. Call backward on the loss to fill in gradients\n",
        "4. Take a step on the optimizer\n",
        "\n",
        "However, defining custom training loops allows for greater flexibility. For example, it is easy to save the parameters at each step of training, or use different learning rates for different parameters (which may be useful in deep kernel learning for example).\n"
      ]
    },
    {
      "cell_type": "code",
      "metadata": {
        "id": "TtsOaxXYiUD-",
        "colab_type": "code",
        "colab": {
          "base_uri": "https://localhost:8080/",
          "height": 857
        },
        "outputId": "fb19a31b-5b00-4429-d351-d0f0e49511b3"
      },
      "source": [
        "training_iter = 50\n",
        "# fin optimal model hyperparameters\n",
        "model.train()\n",
        "likelihood.train()\n",
        "\n",
        "optimizer = torch.optim.Adam([\n",
        "  {'params': model.parameters()}\n",
        "], lr=0.1)\n",
        "\n",
        "# loss for gps - the marginal log likelihood\n",
        "mll = ExactMarginalLogLikelihood(likelihood, model)\n",
        "\n",
        "for i in range(training_iter):\n",
        "  optimizer.zero_grad()\n",
        "  output = model(train_x)\n",
        "  loss = -mll(output, train_y)\n",
        "  loss.backward()\n",
        "  print('Iter %d/%d - Loss: %.3f   lengthscale: %.3f   noise: %.3f' % (\n",
        "        i + 1, training_iter, loss.item(),\n",
        "        model.covar_module.base_kernel.lengthscale.item(),\n",
        "        model.likelihood.noise.item()\n",
        "  ))\n",
        "  optimizer.step()\n"
      ],
      "execution_count": 24,
      "outputs": [
        {
          "output_type": "stream",
          "text": [
            "Iter 1/50 - Loss: 1.570   lengthscale: 0.693   noise: 0.693\n",
            "Iter 2/50 - Loss: 1.549   lengthscale: 0.644   noise: 0.744\n",
            "Iter 3/50 - Loss: 1.531   lengthscale: 0.598   noise: 0.798\n",
            "Iter 4/50 - Loss: 1.518   lengthscale: 0.554   noise: 0.852\n",
            "Iter 5/50 - Loss: 1.508   lengthscale: 0.513   noise: 0.906\n",
            "Iter 6/50 - Loss: 1.501   lengthscale: 0.474   noise: 0.959\n",
            "Iter 7/50 - Loss: 1.495   lengthscale: 0.437   noise: 1.010\n",
            "Iter 8/50 - Loss: 1.492   lengthscale: 0.403   noise: 1.058\n",
            "Iter 9/50 - Loss: 1.489   lengthscale: 0.370   noise: 1.102\n",
            "Iter 10/50 - Loss: 1.488   lengthscale: 0.341   noise: 1.140\n",
            "Iter 11/50 - Loss: 1.487   lengthscale: 0.313   noise: 1.173\n",
            "Iter 12/50 - Loss: 1.487   lengthscale: 0.288   noise: 1.200\n",
            "Iter 13/50 - Loss: 1.486   lengthscale: 0.266   noise: 1.220\n",
            "Iter 14/50 - Loss: 1.486   lengthscale: 0.246   noise: 1.234\n",
            "Iter 15/50 - Loss: 1.486   lengthscale: 0.228   noise: 1.242\n",
            "Iter 16/50 - Loss: 1.486   lengthscale: 0.213   noise: 1.245\n",
            "Iter 17/50 - Loss: 1.485   lengthscale: 0.200   noise: 1.243\n",
            "Iter 18/50 - Loss: 1.485   lengthscale: 0.189   noise: 1.237\n",
            "Iter 19/50 - Loss: 1.484   lengthscale: 0.180   noise: 1.226\n",
            "Iter 20/50 - Loss: 1.484   lengthscale: 0.172   noise: 1.213\n",
            "Iter 21/50 - Loss: 1.483   lengthscale: 0.166   noise: 1.196\n",
            "Iter 22/50 - Loss: 1.482   lengthscale: 0.161   noise: 1.178\n",
            "Iter 23/50 - Loss: 1.482   lengthscale: 0.158   noise: 1.158\n",
            "Iter 24/50 - Loss: 1.481   lengthscale: 0.155   noise: 1.137\n",
            "Iter 25/50 - Loss: 1.481   lengthscale: 0.154   noise: 1.116\n",
            "Iter 26/50 - Loss: 1.480   lengthscale: 0.153   noise: 1.095\n",
            "Iter 27/50 - Loss: 1.480   lengthscale: 0.153   noise: 1.075\n",
            "Iter 28/50 - Loss: 1.480   lengthscale: 0.153   noise: 1.056\n",
            "Iter 29/50 - Loss: 1.479   lengthscale: 0.154   noise: 1.038\n",
            "Iter 30/50 - Loss: 1.479   lengthscale: 0.156   noise: 1.022\n",
            "Iter 31/50 - Loss: 1.479   lengthscale: 0.159   noise: 1.008\n",
            "Iter 32/50 - Loss: 1.479   lengthscale: 0.162   noise: 0.996\n",
            "Iter 33/50 - Loss: 1.479   lengthscale: 0.165   noise: 0.987\n",
            "Iter 34/50 - Loss: 1.479   lengthscale: 0.169   noise: 0.980\n",
            "Iter 35/50 - Loss: 1.479   lengthscale: 0.173   noise: 0.976\n",
            "Iter 36/50 - Loss: 1.479   lengthscale: 0.178   noise: 0.974\n",
            "Iter 37/50 - Loss: 1.479   lengthscale: 0.183   noise: 0.975\n",
            "Iter 38/50 - Loss: 1.479   lengthscale: 0.188   noise: 0.978\n",
            "Iter 39/50 - Loss: 1.479   lengthscale: 0.193   noise: 0.982\n",
            "Iter 40/50 - Loss: 1.479   lengthscale: 0.197   noise: 0.988\n",
            "Iter 41/50 - Loss: 1.478   lengthscale: 0.202   noise: 0.996\n",
            "Iter 42/50 - Loss: 1.478   lengthscale: 0.206   noise: 1.004\n",
            "Iter 43/50 - Loss: 1.478   lengthscale: 0.209   noise: 1.013\n",
            "Iter 44/50 - Loss: 1.478   lengthscale: 0.212   noise: 1.022\n",
            "Iter 45/50 - Loss: 1.478   lengthscale: 0.214   noise: 1.031\n",
            "Iter 46/50 - Loss: 1.478   lengthscale: 0.215   noise: 1.039\n",
            "Iter 47/50 - Loss: 1.478   lengthscale: 0.216   noise: 1.047\n",
            "Iter 48/50 - Loss: 1.478   lengthscale: 0.216   noise: 1.054\n",
            "Iter 49/50 - Loss: 1.478   lengthscale: 0.215   noise: 1.060\n",
            "Iter 50/50 - Loss: 1.478   lengthscale: 0.213   noise: 1.064\n"
          ],
          "name": "stdout"
        }
      ]
    },
    {
      "cell_type": "markdown",
      "metadata": {
        "id": "PK75KtvVsdC9",
        "colab_type": "text"
      },
      "source": [
        "# Make predictions with the model\n",
        "\n",
        "Just as a user defined GP model returns a MultivariateNormal containing the prior mean and covariance from forward, a trained GP model in eval mode returns a MultivariateNormal containing the posterior mean and covariance. Thus, getting the predictive mean and variance, and then sampling functions from the GP at the given test points could be accomplished with calls like:"
      ]
    },
    {
      "cell_type": "code",
      "metadata": {
        "id": "ihHxwoDPiUA7",
        "colab_type": "code",
        "colab": {}
      },
      "source": [
        "# f_preds = model(test_x)\n",
        "# y_preds = likelihood(model(test_x))\n",
        "\n",
        "# f_mean = f_preds.mean\n",
        "# f_var = f_preds.variance\n",
        "# f_covar = f_preds.covariance_matrix\n",
        "# f_sample = f_preds.sample(sample_shape=torch.Size(1000,))\n",
        "\n",
        "# get into evaluation (predictive posterior) mode\n",
        "model.eval()\n",
        "likelihood.eval()\n",
        "\n",
        "# test points are regularly spaces along [0,1]\n",
        "# make predictions by feeding model through likelihood\n",
        "with torch.no_grad(), fast_pred_var():\n",
        "  test_x = torch.linspace(0, 1, 51)\n",
        "  observed_pred = likelihood(model(test_x))\n"
      ],
      "execution_count": 0,
      "outputs": []
    },
    {
      "cell_type": "markdown",
      "metadata": {
        "id": "dn_B2h59u4AE",
        "colab_type": "text"
      },
      "source": [
        "### Plot the model"
      ]
    },
    {
      "cell_type": "code",
      "metadata": {
        "id": "7WYYn6gFiT95",
        "colab_type": "code",
        "colab": {
          "base_uri": "https://localhost:8080/",
          "height": 215
        },
        "outputId": "b4776fef-6a76-4f2e-f925-1e311f02fac1"
      },
      "source": [
        "with torch.no_grad():\n",
        "  f, ax = plt.subplots(1, 1, figsize=(4, 3))\n",
        "  lower, upper = observed_pred.confidence_region()\n",
        "  ax.plot(train_x.numpy(), train_y.numpy(), 'k*')\n",
        "  ax.plot(test_x.numpy(), observed_pred.mean.numpy(), 'b')\n",
        "  ax.fill_between(test_x.numpy(), lower.numpy(), upper.numpy(), alpha=0.5)\n",
        "  ax.set_ylim([-3, 3])\n",
        "  ax.legend(['Observed Data', 'Mean', 'Confidence'])\n"
      ],
      "execution_count": 32,
      "outputs": [
        {
          "output_type": "display_data",
          "data": {
            "image/png": "[encoded data removed]",
            "text/plain": [
              "<Figure size 288x216 with 1 Axes>"
            ]
          },
          "metadata": {
            "tags": []
          }
        }
      ]
    }
  ]
}