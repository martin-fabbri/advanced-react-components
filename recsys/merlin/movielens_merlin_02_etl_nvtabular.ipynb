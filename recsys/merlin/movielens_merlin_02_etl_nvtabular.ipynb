{
  "nbformat": 4,
  "nbformat_minor": 0,
  "metadata": {
    "colab": {
      "name": "movielens-merlin-02-etl-nvtabular.ipynb",
      "provenance": [],
      "authorship_tag": "ABX9TyMJUyWegY63gWQj3OUyvh5X",
      "include_colab_link": true
    },
    "kernelspec": {
      "name": "python3",
      "display_name": "Python 3"
    },
    "language_info": {
      "name": "python"
    }
  },
  "cells": [
    {
      "cell_type": "markdown",
      "metadata": {
        "id": "view-in-github",
        "colab_type": "text"
      },
      "source": [
        "<a href=\"https://colab.research.google.com/github/martin-fabbri/advanced-react-components/blob/master/recsys/merlin/movielens_merlin_02_etl_nvtabular.ipynb\" target=\"_parent\"><img src=\"https://colab.research.google.com/assets/colab-badge.svg\" alt=\"Open In Colab\"/></a>"
      ]
    },
    {
      "cell_type": "markdown",
      "source": [
        "# Movielens Merling\n",
        "## 02. ETL with NVTabular\n",
        "### Overview\n",
        "NVTabular is a `feature engineering` and `preprocessing` library for tabular data designed to quickly and easily manipulate terabyte scale datasets used to train deep learning based recommender systems. It provides a high level abstraction to simplify code and accelerates computation on the GPU using the RAPIDS cuDF library.\n",
        "\n",
        "Deep Learning models require the `input feature` in a specific format. Categorical features needs to be continuous integers (0, ..., |C|) to use them with an embedding layer. We will use NVTabular to preprocess the categorical features.\n",
        "\n",
        "One other challenge is multi-hot categorical features. A product can have multiple categories assigned, but the number of categories per product varies. For example, a movie can have one or multiple genres:\n",
        "\n",
        "Father of the Bride Part II: [Comedy]\n",
        "Toy Story: [Adventure, Animation, Children, Comedy, Fantasy]\n",
        "Jumanji: [Adventure, Children, Fantasy]\n",
        "One strategy is often to use only the first category or the most frequent ones. However, a better strategy is to use all provided categories per datapoint. RAPID cuDF added list support in its latest release v0.16 and NVTabular now supports multi-hot categorical features."
      ],
      "metadata": {
        "id": "UvbCLXNTrLFg"
      }
    },
    {
      "cell_type": "code",
      "execution_count": null,
      "metadata": {
        "id": "z2tkBDnQq4zd"
      },
      "outputs": [],
      "source": [
        ""
      ]
    }
  ]
}